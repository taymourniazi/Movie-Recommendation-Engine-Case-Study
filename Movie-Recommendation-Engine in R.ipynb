{
 "cells": [
  {
   "cell_type": "markdown",
   "metadata": {},
   "source": [
    "### Case Study (Reccommendation engine - Movies) #####"
   ]
  },
  {
   "cell_type": "code",
   "execution_count": 4,
   "metadata": {
    "collapsed": true
   },
   "outputs": [],
   "source": [
    "# Getting the Data\n",
    "data = read.table('u.data')"
   ]
  },
  {
   "cell_type": "code",
   "execution_count": 5,
   "metadata": {},
   "outputs": [
    {
     "name": "stdout",
     "output_type": "stream",
     "text": [
      "'data.frame':\t100000 obs. of  3 variables:\n",
      " $ user_id: int  196 186 22 244 166 298 115 253 305 6 ...\n",
      " $ item_id: int  242 302 377 51 346 474 265 465 451 86 ...\n",
      " $ rating : int  3 3 1 2 1 4 2 5 3 3 ...\n"
     ]
    }
   ],
   "source": [
    "# renaming column names\n",
    "colnames(data) = c(\"user_id\", \"item_id\", \"rating\", \"timestamp\")\n",
    "# deleting the last column contain timestamps\n",
    "data = data[-4]\n",
    "# check the data\n",
    "str(data)"
   ]
  },
  {
   "cell_type": "code",
   "execution_count": 6,
   "metadata": {},
   "outputs": [
    {
     "data": {
      "text/plain": [
       "    user_id         item_id           rating    \n",
       " Min.   :  1.0   Min.   :   1.0   Min.   :1.00  \n",
       " 1st Qu.:254.0   1st Qu.: 175.0   1st Qu.:3.00  \n",
       " Median :447.0   Median : 322.0   Median :4.00  \n",
       " Mean   :462.5   Mean   : 425.5   Mean   :3.53  \n",
       " 3rd Qu.:682.0   3rd Qu.: 631.0   3rd Qu.:4.00  \n",
       " Max.   :943.0   Max.   :1682.0   Max.   :5.00  "
      ]
     },
     "metadata": {},
     "output_type": "display_data"
    }
   ],
   "source": [
    "# key summary for each column\n",
    "summary(data)"
   ]
  },
  {
   "cell_type": "code",
   "execution_count": 7,
   "metadata": {},
   "outputs": [
    {
     "data": {
      "image/png": "[encoded data removed]",
      "text/plain": [
       "Plot with title \"Histogram of data$rating\""
      ]
     },
     "metadata": {},
     "output_type": "display_data"
    }
   ],
   "source": [
    "# plotting histogram from ratings\n",
    "hist(data$rating)"
   ]
  },
  {
   "cell_type": "code",
   "execution_count": 8,
   "metadata": {},
   "outputs": [
    {
     "name": "stdout",
     "output_type": "stream",
     "text": [
      "[1] \"Sparsity of Dataset is\" \"6.30466936422453\"      \n"
     ]
    }
   ],
   "source": [
    "# The data sparsity can be calculated as follow\n",
    "#Sparsity = (# of ratings / # of movies * # of Users) * 100% \"\"\"\n",
    "\n",
    "# No. of Ratings\n",
    "num_ratings = nrow(data)\n",
    "# No. of Movies\n",
    "num_movies = length(unique(data$item_id))\n",
    "# No. of Users\n",
    "num_users = length(unique(data$user_id))\n",
    "# Compute the Sparsity\n",
    "sparsity = num_ratings / (num_movies * num_users) * 100\n",
    "print(c('Sparsity of Dataset is', sparsity))"
   ]
  },
  {
   "cell_type": "code",
   "execution_count": 9,
   "metadata": {
    "collapsed": true
   },
   "outputs": [],
   "source": [
    "# subset data that users with 50 or more ratings remain\n",
    "data = data[ data$user_id %in% \n",
    "               names(table(data$user_id))[table(data$user_id) > 50] , ]"
   ]
  },
  {
   "cell_type": "code",
   "execution_count": 10,
   "metadata": {},
   "outputs": [
    {
     "name": "stdout",
     "output_type": "stream",
     "text": [
      "[1] \"UPDATED Sparsity of Dataset is\" \"9.32171601315719\"              \n"
     ]
    }
   ],
   "source": [
    "# Now, we can recalculate the sparsity as we did earlier.\n",
    "num_ratings = nrow(data)\n",
    "num_movies = length(unique(data$item_id))\n",
    "num_users = length(unique(data$user_id))\n",
    "sparsity = num_ratings / (num_movies * num_users) * 100\n",
    "print(c('UPDATED Sparsity of Dataset is', sparsity))"
   ]
  },
  {
   "cell_type": "code",
   "execution_count": 12,
   "metadata": {},
   "outputs": [],
   "source": [
    "# convert our data to a graphlab SFrame object\n",
    "\n",
    "library('recommenderlab')\n",
    "# First, we convert our data type to a recommenderlab compatible type\n",
    "data_new = as(data, \"realRatingMatrix\")\n",
    "# Now, we apply a split of 0.7 train, 0.3 test\n",
    "# Need to tell recommender lab what the top rating is (5)\n",
    "data_split = evaluationScheme(data_new, method=\"split\", train=0.7, given=15, goodRating=5)\n",
    "train = getData(data_split, \"train\")\n",
    "test_X = getData(data_split, \"known\")\n",
    "test_Y = getData(data_split, \"unknown\")"
   ]
  },
  {
   "cell_type": "code",
   "execution_count": 13,
   "metadata": {
    "collapsed": true
   },
   "outputs": [],
   "source": [
    "####   Integrating a Popularity Recommender ####\n",
    "rec_pop = Recommender(train, method=\"POPULAR\")"
   ]
  },
  {
   "cell_type": "code",
   "execution_count": 14,
   "metadata": {
    "collapsed": true
   },
   "outputs": [],
   "source": [
    "####   Integrating a Popularity Recommender ####\n",
    "rec_pop = Recommender(train, method=\"POPULAR\")"
   ]
  },
  {
   "cell_type": "code",
   "execution_count": 15,
   "metadata": {},
   "outputs": [
    {
     "data": {
      "text/html": [
       "<dl class=dl-horizontal>\n",
       "\t<dt>RMSE</dt>\n",
       "\t\t<dd>0.961754835384182</dd>\n",
       "\t<dt>MSE</dt>\n",
       "\t\t<dd>0.924972363384855</dd>\n",
       "\t<dt>MAE</dt>\n",
       "\t\t<dd>0.76216734913943</dd>\n",
       "</dl>\n"
      ],
      "text/latex": [
       "\\begin{description*}\n",
       "\\item[RMSE] 0.961754835384182\n",
       "\\item[MSE] 0.924972363384855\n",
       "\\item[MAE] 0.76216734913943\n",
       "\\end{description*}\n"
      ],
      "text/markdown": [
       "RMSE\n",
       ":   0.961754835384182MSE\n",
       ":   0.924972363384855MAE\n",
       ":   0.76216734913943\n",
       "\n"
      ],
      "text/plain": [
       "     RMSE       MSE       MAE \n",
       "0.9617548 0.9249724 0.7621673 "
      ]
     },
     "metadata": {},
     "output_type": "display_data"
    }
   ],
   "source": [
    "# Test set Evaluation\n",
    "predicted = predict(rec_pop, test_X, type=\"ratings\")\n",
    "error = calcPredictionAccuracy(predicted, test_Y)\n",
    "error"
   ]
  },
  {
   "cell_type": "code",
   "execution_count": 16,
   "metadata": {
    "collapsed": true
   },
   "outputs": [],
   "source": [
    "##### Integrating a Collaborative Filtering Recommender ######\n",
    "\n",
    "val_split = evaluationScheme(train, method=\"split\", train=0.7, given=15, goodRating=5)\n",
    "train_real = getData(val_split, \"train\")\n",
    "val_X = getData(val_split, \"known\")\n",
    "val_Y = getData(val_split, \"unknown\")"
   ]
  },
  {
   "cell_type": "code",
   "execution_count": 17,
   "metadata": {
    "collapsed": true
   },
   "outputs": [],
   "source": [
    "\n",
    "##### Integrating a Collaborative Filtering Recommender ######\n",
    "\n",
    "val_split = evaluationScheme(train, method=\"split\", train=0.7, given=15, goodRating=5)\n",
    "train_real = getData(val_split, \"train\")\n",
    "val_X = getData(val_split, \"known\")\n",
    "val_Y = getData(val_split, \"unknown\")\n"
   ]
  },
  {
   "cell_type": "code",
   "execution_count": 18,
   "metadata": {},
   "outputs": [
    {
     "name": "stdout",
     "output_type": "stream",
     "text": [
      "     RMSE       MSE       MAE \n",
      "1.0710054 1.1470526 0.8529116 \n"
     ]
    }
   ],
   "source": [
    "# performance comparison train data and its application on validation set\n",
    "\n",
    "# Create model\n",
    "rec_ubcf = Recommender(train_real, \"UBCF\")\n",
    "predicted_ubcf = predict(rec_ubcf, val_X, type=\"ratings\")\n",
    "# Now, we compute the RMSE\n",
    "error_ubcf = calcPredictionAccuracy(predicted_ubcf, val_Y)\n",
    "print(error_ubcf)"
   ]
  },
  {
   "cell_type": "code",
   "execution_count": 20,
   "metadata": {},
   "outputs": [
    {
     "name": "stdout",
     "output_type": "stream",
     "text": [
      "     RMSE       MSE       MAE \n",
      "1.2945936 1.6759726 0.9164568 \n"
     ]
    }
   ],
   "source": [
    "##### Integrating an Item-Item Similarity Recommender #####\n",
    "# Create model\n",
    "rec_ibcf = Recommender(train, \"IBCF\")\n",
    "predicted_ibcf = predict(rec_ibcf, test_X, type=\"ratings\")\n",
    "# Now, we compute the RMSE\n",
    "error_ibcf = calcPredictionAccuracy(predicted_ibcf, test_Y)\n",
    "print(error_ibcf)"
   ]
  },
  {
   "cell_type": "code",
   "execution_count": 21,
   "metadata": {},
   "outputs": [
    {
     "name": "stdout",
     "output_type": "stream",
     "text": [
      "POPULAR run fold/sample [model time/prediction time]\n",
      "\t 1  [0.03sec/2.1sec] \n",
      "UBCF run fold/sample [model time/prediction time]\n",
      "\t 1  [0.13sec/3sec] \n",
      "IBCF run fold/sample [model time/prediction time]\n",
      "\t 1  [72.81sec/0.31sec] \n"
     ]
    }
   ],
   "source": [
    "########### Getting Top k Recommendations ###############\n",
    "\n",
    "results_pop <- evaluate(data_split, method=\"POPULAR\", type=\"topNList\", n=c(5, 10))\n",
    "results_ubcf <- evaluate(data_split, method=\"UBCF\", type=\"topNList\", n=c(5, 10))\n",
    "results_ibcf <- evaluate(data_split, method=\"IBCF\", type=\"topNList\", n=c(5, 10))"
   ]
  },
  {
   "cell_type": "code",
   "execution_count": 22,
   "metadata": {},
   "outputs": [
    {
     "name": "stdout",
     "output_type": "stream",
     "text": [
      "[[1]]\n",
      "[1] \"Popularity\"\n",
      "\n",
      "[[2]]\n",
      "An object of class \"confusionMatrix\"\n",
      "Slot \"cm\":\n",
      "         TP       FP       FN       TN precision     recall        TPR\n",
      "5  1.544379 3.455621 24.57396 1636.426 0.3088757 0.08093168 0.08093168\n",
      "10 2.816568 7.183432 23.30178 1632.698 0.2816568 0.13366614 0.13366614\n",
      "           FPR\n",
      "5  0.002101132\n",
      "10 0.004368201\n",
      "\n",
      "Slot \"model\":\n",
      "NULL\n",
      "\n",
      "\n",
      "[[1]]\n",
      "[1] \"Collaborative Filtering\"\n",
      "\n",
      "[[2]]\n",
      "An object of class \"confusionMatrix\"\n",
      "Slot \"cm\":\n",
      "         TP       FP       FN       TN precision     recall        TPR\n",
      "5  0.887574 4.112426 25.23077 1635.769 0.1775148 0.03912622 0.03912622\n",
      "10 1.431953 8.568047 24.68639 1631.314 0.1431953 0.06512031 0.06512031\n",
      "           FPR\n",
      "5  0.002502869\n",
      "10 0.005216320\n",
      "\n",
      "Slot \"model\":\n",
      "NULL\n",
      "\n",
      "\n",
      "[[1]]\n",
      "[1] \"Item-Item Similarity\"\n",
      "\n",
      "[[2]]\n",
      "An object of class \"confusionMatrix\"\n",
      "Slot \"cm\":\n",
      "           TP       FP       FN       TN   precision       recall          TPR\n",
      "5  0.01183432 4.988166 26.10651 1634.893 0.002366864 0.0003226071 0.0003226071\n",
      "10 0.02366864 9.976331 26.09467 1629.905 0.002366864 0.0006259496 0.0006259496\n",
      "           FPR\n",
      "5  0.003042165\n",
      "10 0.006084496\n",
      "\n",
      "Slot \"model\":\n",
      "NULL\n",
      "\n",
      "\n"
     ]
    }
   ],
   "source": [
    "##########  Evaluation: Confusion Matrix, Precision and Recall ######\n",
    "\n",
    "print(c('Popularity', results_pop@results))\n",
    "\n",
    "print(c('Collaborative Filtering', results_ubcf@results))\n",
    "\n",
    "print(c('Item-Item Similarity', results_ibcf@results))"
   ]
  }
 ],
 "metadata": {
  "kernelspec": {
   "display_name": "R",
   "language": "R",
   "name": "ir"
  },
  "language_info": {
   "codemirror_mode": "r",
   "file_extension": ".r",
   "mimetype": "text/x-r-source",
   "name": "R",
   "pygments_lexer": "r",
   "version": "3.4.2"
  }
 },
 "nbformat": 4,
 "nbformat_minor": 2
}
