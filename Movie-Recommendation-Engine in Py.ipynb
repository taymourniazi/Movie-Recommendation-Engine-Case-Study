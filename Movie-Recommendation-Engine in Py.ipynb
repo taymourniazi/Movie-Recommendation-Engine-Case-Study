{
 "cells": [
  {
   "cell_type": "code",
   "execution_count": 1,
   "metadata": {
    "collapsed": true
   },
   "outputs": [],
   "source": [
    "import os\n",
    "os.chdir (\"D:\\MIT Big Data\\Module 4\\Graded Case study\\MovieLens 100K dataset\\ml-100k\")"
   ]
  },
  {
   "cell_type": "code",
   "execution_count": 2,
   "metadata": {
    "collapsed": false
   },
   "outputs": [],
   "source": [
    "# import libraries\n",
    "import pandas as pd\n",
    "import numpy as np\n",
    "import matplotlib.pyplot as plt\n",
    "import graphlab as gl"
   ]
  },
  {
   "cell_type": "code",
   "execution_count": 3,
   "metadata": {
    "collapsed": false
   },
   "outputs": [],
   "source": [
    "# renaming column names\n",
    "col_names = [\"user_id\", \"item_id\", \"rating\", \"timestamp\"]\n",
    "# reading data\n",
    "data = pd.read_table('u.data', names=col_names)"
   ]
  },
  {
   "cell_type": "code",
   "execution_count": 4,
   "metadata": {
    "collapsed": false
   },
   "outputs": [],
   "source": [
    "# deleting the last column contain timestamps\n",
    "data = data.drop('timestamp', 1)"
   ]
  },
  {
   "cell_type": "code",
   "execution_count": 5,
   "metadata": {
    "collapsed": false
   },
   "outputs": [
    {
     "name": "stdout",
     "output_type": "stream",
     "text": [
      "<class 'pandas.core.frame.DataFrame'>\n",
      "RangeIndex: 100000 entries, 0 to 99999\n",
      "Data columns (total 3 columns):\n",
      "user_id    100000 non-null int64\n",
      "item_id    100000 non-null int64\n",
      "rating     100000 non-null int64\n",
      "dtypes: int64(3)\n",
      "memory usage: 2.3 MB\n"
     ]
    }
   ],
   "source": [
    "# check the data\n",
    "data.info()"
   ]
  },
  {
   "cell_type": "code",
   "execution_count": 6,
   "metadata": {
    "collapsed": false
   },
   "outputs": [
    {
     "data": {
      "application/javascript": [
       "/* Put everything inside the global mpl namespace */\n",
       "window.mpl = {};\n",
       "\n",
       "mpl.get_websocket_type = function() {\n",
       "    if (typeof(WebSocket) !== 'undefined') {\n",
       "        return WebSocket;\n",
       "    } else if (typeof(MozWebSocket) !== 'undefined') {\n",
       "        return MozWebSocket;\n",
       "    } else {\n",
       "        alert('Your browser does not have WebSocket support.' +\n",
       "              'Please try Chrome, Safari or Firefox ≥ 6. ' +\n",
       "              'Firefox 4 and 5 are also supported but you ' +\n",
       "              'have to enable WebSockets in about:config.');\n",
       "    };\n",
       "}\n",
       "\n",
       "mpl.figure = function(figure_id, websocket, ondownload, parent_element) {\n",
       "    this.id = figure_id;\n",
       "\n",
       "    this.ws = websocket;\n",
       "\n",
       "    this.supports_binary = (this.ws.binaryType != undefined);\n",
       "\n",
       "    if (!this.supports_binary) {\n",
       "        var warnings = document.getElementById(\"mpl-warnings\");\n",
       "        if (warnings) {\n",
       "            warnings.style.display = 'block';\n",
       "            warnings.textContent = (\n",
       "                \"This browser does not support binary websocket messages. \" +\n",
       "                    \"Performance may be slow.\");\n",
       "        }\n",
       "    }\n",
       "\n",
       "    this.imageObj = new Image();\n",
       "\n",
       "    this.context = undefined;\n",
       "    this.message = undefined;\n",
       "    this.canvas = undefined;\n",
       "    this.rubberband_canvas = undefined;\n",
       "    this.rubberband_context = undefined;\n",
       "    this.format_dropdown = undefined;\n",
       "\n",
       "    this.image_mode = 'full';\n",
       "\n",
       "    this.root = $('<div/>');\n",
       "    this._root_extra_style(this.root)\n",
       "    this.root.attr('style', 'display: inline-block');\n",
       "\n",
       "    $(parent_element).append(this.root);\n",
       "\n",
       "    this._init_header(this);\n",
       "    this._init_canvas(this);\n",
       "    this._init_toolbar(this);\n",
       "\n",
       "    var fig = this;\n",
       "\n",
       "    this.waiting = false;\n",
       "\n",
       "    this.ws.onopen =  function () {\n",
       "            fig.send_message(\"supports_binary\", {value: fig.supports_binary});\n",
       "            fig.send_message(\"send_image_mode\", {});\n",
       "            fig.send_message(\"refresh\", {});\n",
       "        }\n",
       "\n",
       "    this.imageObj.onload = function() {\n",
       "            if (fig.image_mode == 'full') {\n",
       "                // Full images could contain transparency (where diff images\n",
       "                // almost always do), so we need to clear the canvas so that\n",
       "                // there is no ghosting.\n",
       "                fig.context.clearRect(0, 0, fig.canvas.width, fig.canvas.height);\n",
       "            }\n",
       "            fig.context.drawImage(fig.imageObj, 0, 0);\n",
       "        };\n",
       "\n",
       "    this.imageObj.onunload = function() {\n",
       "        this.ws.close();\n",
       "    }\n",
       "\n",
       "    this.ws.onmessage = this._make_on_message_function(this);\n",
       "\n",
       "    this.ondownload = ondownload;\n",
       "}\n",
       "\n",
       "mpl.figure.prototype._init_header = function() {\n",
       "    var titlebar = $(\n",
       "        '<div class=\"ui-dialog-titlebar ui-widget-header ui-corner-all ' +\n",
       "        'ui-helper-clearfix\"/>');\n",
       "    var titletext = $(\n",
       "        '<div class=\"ui-dialog-title\" style=\"width: 100%; ' +\n",
       "        'text-align: center; padding: 3px;\"/>');\n",
       "    titlebar.append(titletext)\n",
       "    this.root.append(titlebar);\n",
       "    this.header = titletext[0];\n",
       "}\n",
       "\n",
       "\n",
       "\n",
       "mpl.figure.prototype._canvas_extra_style = function(canvas_div) {\n",
       "\n",
       "}\n",
       "\n",
       "\n",
       "mpl.figure.prototype._root_extra_style = function(canvas_div) {\n",
       "\n",
       "}\n",
       "\n",
       "mpl.figure.prototype._init_canvas = function() {\n",
       "    var fig = this;\n",
       "\n",
       "    var canvas_div = $('<div/>');\n",
       "\n",
       "    canvas_div.attr('style', 'position: relative; clear: both; outline: 0');\n",
       "\n",
       "    function canvas_keyboard_event(event) {\n",
       "        return fig.key_event(event, event['data']);\n",
       "    }\n",
       "\n",
       "    canvas_div.keydown('key_press', canvas_keyboard_event);\n",
       "    canvas_div.keyup('key_release', canvas_keyboard_event);\n",
       "    this.canvas_div = canvas_div\n",
       "    this._canvas_extra_style(canvas_div)\n",
       "    this.root.append(canvas_div);\n",
       "\n",
       "    var canvas = $('<canvas/>');\n",
       "    canvas.addClass('mpl-canvas');\n",
       "    canvas.attr('style', \"left: 0; top: 0; z-index: 0; outline: 0\")\n",
       "\n",
       "    this.canvas = canvas[0];\n",
       "    this.context = canvas[0].getContext(\"2d\");\n",
       "\n",
       "    var rubberband = $('<canvas/>');\n",
       "    rubberband.attr('style', \"position: absolute; left: 0; top: 0; z-index: 1;\")\n",
       "\n",
       "    var pass_mouse_events = true;\n",
       "\n",
       "    canvas_div.resizable({\n",
       "        start: function(event, ui) {\n",
       "            pass_mouse_events = false;\n",
       "        },\n",
       "        resize: function(event, ui) {\n",
       "            fig.request_resize(ui.size.width, ui.size.height);\n",
       "        },\n",
       "        stop: function(event, ui) {\n",
       "            pass_mouse_events = true;\n",
       "            fig.request_resize(ui.size.width, ui.size.height);\n",
       "        },\n",
       "    });\n",
       "\n",
       "    function mouse_event_fn(event) {\n",
       "        if (pass_mouse_events)\n",
       "            return fig.mouse_event(event, event['data']);\n",
       "    }\n",
       "\n",
       "    rubberband.mousedown('button_press', mouse_event_fn);\n",
       "    rubberband.mouseup('button_release', mouse_event_fn);\n",
       "    // Throttle sequential mouse events to 1 every 20ms.\n",
       "    rubberband.mousemove('motion_notify', mouse_event_fn);\n",
       "\n",
       "    rubberband.mouseenter('figure_enter', mouse_event_fn);\n",
       "    rubberband.mouseleave('figure_leave', mouse_event_fn);\n",
       "\n",
       "    canvas_div.on(\"wheel\", function (event) {\n",
       "        event = event.originalEvent;\n",
       "        event['data'] = 'scroll'\n",
       "        if (event.deltaY < 0) {\n",
       "            event.step = 1;\n",
       "        } else {\n",
       "            event.step = -1;\n",
       "        }\n",
       "        mouse_event_fn(event);\n",
       "    });\n",
       "\n",
       "    canvas_div.append(canvas);\n",
       "    canvas_div.append(rubberband);\n",
       "\n",
       "    this.rubberband = rubberband;\n",
       "    this.rubberband_canvas = rubberband[0];\n",
       "    this.rubberband_context = rubberband[0].getContext(\"2d\");\n",
       "    this.rubberband_context.strokeStyle = \"#000000\";\n",
       "\n",
       "    this._resize_canvas = function(width, height) {\n",
       "        // Keep the size of the canvas, canvas container, and rubber band\n",
       "        // canvas in synch.\n",
       "        canvas_div.css('width', width)\n",
       "        canvas_div.css('height', height)\n",
       "\n",
       "        canvas.attr('width', width);\n",
       "        canvas.attr('height', height);\n",
       "\n",
       "        rubberband.attr('width', width);\n",
       "        rubberband.attr('height', height);\n",
       "    }\n",
       "\n",
       "    // Set the figure to an initial 600x600px, this will subsequently be updated\n",
       "    // upon first draw.\n",
       "    this._resize_canvas(600, 600);\n",
       "\n",
       "    // Disable right mouse context menu.\n",
       "    $(this.rubberband_canvas).bind(\"contextmenu\",function(e){\n",
       "        return false;\n",
       "    });\n",
       "\n",
       "    function set_focus () {\n",
       "        canvas.focus();\n",
       "        canvas_div.focus();\n",
       "    }\n",
       "\n",
       "    window.setTimeout(set_focus, 100);\n",
       "}\n",
       "\n",
       "mpl.figure.prototype._init_toolbar = function() {\n",
       "    var fig = this;\n",
       "\n",
       "    var nav_element = $('<div/>')\n",
       "    nav_element.attr('style', 'width: 100%');\n",
       "    this.root.append(nav_element);\n",
       "\n",
       "    // Define a callback function for later on.\n",
       "    function toolbar_event(event) {\n",
       "        return fig.toolbar_button_onclick(event['data']);\n",
       "    }\n",
       "    function toolbar_mouse_event(event) {\n",
       "        return fig.toolbar_button_onmouseover(event['data']);\n",
       "    }\n",
       "\n",
       "    for(var toolbar_ind in mpl.toolbar_items) {\n",
       "        var name = mpl.toolbar_items[toolbar_ind][0];\n",
       "        var tooltip = mpl.toolbar_items[toolbar_ind][1];\n",
       "        var image = mpl.toolbar_items[toolbar_ind][2];\n",
       "        var method_name = mpl.toolbar_items[toolbar_ind][3];\n",
       "\n",
       "        if (!name) {\n",
       "            // put a spacer in here.\n",
       "            continue;\n",
       "        }\n",
       "        var button = $('<button/>');\n",
       "        button.addClass('ui-button ui-widget ui-state-default ui-corner-all ' +\n",
       "                        'ui-button-icon-only');\n",
       "        button.attr('role', 'button');\n",
       "        button.attr('aria-disabled', 'false');\n",
       "        button.click(method_name, toolbar_event);\n",
       "        button.mouseover(tooltip, toolbar_mouse_event);\n",
       "\n",
       "        var icon_img = $('<span/>');\n",
       "        icon_img.addClass('ui-button-icon-primary ui-icon');\n",
       "        icon_img.addClass(image);\n",
       "        icon_img.addClass('ui-corner-all');\n",
       "\n",
       "        var tooltip_span = $('<span/>');\n",
       "        tooltip_span.addClass('ui-button-text');\n",
       "        tooltip_span.html(tooltip);\n",
       "\n",
       "        button.append(icon_img);\n",
       "        button.append(tooltip_span);\n",
       "\n",
       "        nav_element.append(button);\n",
       "    }\n",
       "\n",
       "    var fmt_picker_span = $('<span/>');\n",
       "\n",
       "    var fmt_picker = $('<select/>');\n",
       "    fmt_picker.addClass('mpl-toolbar-option ui-widget ui-widget-content');\n",
       "    fmt_picker_span.append(fmt_picker);\n",
       "    nav_element.append(fmt_picker_span);\n",
       "    this.format_dropdown = fmt_picker[0];\n",
       "\n",
       "    for (var ind in mpl.extensions) {\n",
       "        var fmt = mpl.extensions[ind];\n",
       "        var option = $(\n",
       "            '<option/>', {selected: fmt === mpl.default_extension}).html(fmt);\n",
       "        fmt_picker.append(option)\n",
       "    }\n",
       "\n",
       "    // Add hover states to the ui-buttons\n",
       "    $( \".ui-button\" ).hover(\n",
       "        function() { $(this).addClass(\"ui-state-hover\");},\n",
       "        function() { $(this).removeClass(\"ui-state-hover\");}\n",
       "    );\n",
       "\n",
       "    var status_bar = $('<span class=\"mpl-message\"/>');\n",
       "    nav_element.append(status_bar);\n",
       "    this.message = status_bar[0];\n",
       "}\n",
       "\n",
       "mpl.figure.prototype.request_resize = function(x_pixels, y_pixels) {\n",
       "    // Request matplotlib to resize the figure. Matplotlib will then trigger a resize in the client,\n",
       "    // which will in turn request a refresh of the image.\n",
       "    this.send_message('resize', {'width': x_pixels, 'height': y_pixels});\n",
       "}\n",
       "\n",
       "mpl.figure.prototype.send_message = function(type, properties) {\n",
       "    properties['type'] = type;\n",
       "    properties['figure_id'] = this.id;\n",
       "    this.ws.send(JSON.stringify(properties));\n",
       "}\n",
       "\n",
       "mpl.figure.prototype.send_draw_message = function() {\n",
       "    if (!this.waiting) {\n",
       "        this.waiting = true;\n",
       "        this.ws.send(JSON.stringify({type: \"draw\", figure_id: this.id}));\n",
       "    }\n",
       "}\n",
       "\n",
       "\n",
       "mpl.figure.prototype.handle_save = function(fig, msg) {\n",
       "    var format_dropdown = fig.format_dropdown;\n",
       "    var format = format_dropdown.options[format_dropdown.selectedIndex].value;\n",
       "    fig.ondownload(fig, format);\n",
       "}\n",
       "\n",
       "\n",
       "mpl.figure.prototype.handle_resize = function(fig, msg) {\n",
       "    var size = msg['size'];\n",
       "    if (size[0] != fig.canvas.width || size[1] != fig.canvas.height) {\n",
       "        fig._resize_canvas(size[0], size[1]);\n",
       "        fig.send_message(\"refresh\", {});\n",
       "    };\n",
       "}\n",
       "\n",
       "mpl.figure.prototype.handle_rubberband = function(fig, msg) {\n",
       "    var x0 = msg['x0'];\n",
       "    var y0 = fig.canvas.height - msg['y0'];\n",
       "    var x1 = msg['x1'];\n",
       "    var y1 = fig.canvas.height - msg['y1'];\n",
       "    x0 = Math.floor(x0) + 0.5;\n",
       "    y0 = Math.floor(y0) + 0.5;\n",
       "    x1 = Math.floor(x1) + 0.5;\n",
       "    y1 = Math.floor(y1) + 0.5;\n",
       "    var min_x = Math.min(x0, x1);\n",
       "    var min_y = Math.min(y0, y1);\n",
       "    var width = Math.abs(x1 - x0);\n",
       "    var height = Math.abs(y1 - y0);\n",
       "\n",
       "    fig.rubberband_context.clearRect(\n",
       "        0, 0, fig.canvas.width, fig.canvas.height);\n",
       "\n",
       "    fig.rubberband_context.strokeRect(min_x, min_y, width, height);\n",
       "}\n",
       "\n",
       "mpl.figure.prototype.handle_figure_label = function(fig, msg) {\n",
       "    // Updates the figure title.\n",
       "    fig.header.textContent = msg['label'];\n",
       "}\n",
       "\n",
       "mpl.figure.prototype.handle_cursor = function(fig, msg) {\n",
       "    var cursor = msg['cursor'];\n",
       "    switch(cursor)\n",
       "    {\n",
       "    case 0:\n",
       "        cursor = 'pointer';\n",
       "        break;\n",
       "    case 1:\n",
       "        cursor = 'default';\n",
       "        break;\n",
       "    case 2:\n",
       "        cursor = 'crosshair';\n",
       "        break;\n",
       "    case 3:\n",
       "        cursor = 'move';\n",
       "        break;\n",
       "    }\n",
       "    fig.rubberband_canvas.style.cursor = cursor;\n",
       "}\n",
       "\n",
       "mpl.figure.prototype.handle_message = function(fig, msg) {\n",
       "    fig.message.textContent = msg['message'];\n",
       "}\n",
       "\n",
       "mpl.figure.prototype.handle_draw = function(fig, msg) {\n",
       "    // Request the server to send over a new figure.\n",
       "    fig.send_draw_message();\n",
       "}\n",
       "\n",
       "mpl.figure.prototype.handle_image_mode = function(fig, msg) {\n",
       "    fig.image_mode = msg['mode'];\n",
       "}\n",
       "\n",
       "mpl.figure.prototype.updated_canvas_event = function() {\n",
       "    // Called whenever the canvas gets updated.\n",
       "    this.send_message(\"ack\", {});\n",
       "}\n",
       "\n",
       "// A function to construct a web socket function for onmessage handling.\n",
       "// Called in the figure constructor.\n",
       "mpl.figure.prototype._make_on_message_function = function(fig) {\n",
       "    return function socket_on_message(evt) {\n",
       "        if (evt.data instanceof Blob) {\n",
       "            /* FIXME: We get \"Resource interpreted as Image but\n",
       "             * transferred with MIME type text/plain:\" errors on\n",
       "             * Chrome.  But how to set the MIME type?  It doesn't seem\n",
       "             * to be part of the websocket stream */\n",
       "            evt.data.type = \"image/png\";\n",
       "\n",
       "            /* Free the memory for the previous frames */\n",
       "            if (fig.imageObj.src) {\n",
       "                (window.URL || window.webkitURL).revokeObjectURL(\n",
       "                    fig.imageObj.src);\n",
       "            }\n",
       "\n",
       "            fig.imageObj.src = (window.URL || window.webkitURL).createObjectURL(\n",
       "                evt.data);\n",
       "            fig.updated_canvas_event();\n",
       "            fig.waiting = false;\n",
       "            return;\n",
       "        }\n",
       "        else if (typeof evt.data === 'string' && evt.data.slice(0, 21) == \"data:image/png;base64\") {\n",
       "            fig.imageObj.src = evt.data;\n",
       "            fig.updated_canvas_event();\n",
       "            fig.waiting = false;\n",
       "            return;\n",
       "        }\n",
       "\n",
       "        var msg = JSON.parse(evt.data);\n",
       "        var msg_type = msg['type'];\n",
       "\n",
       "        // Call the  \"handle_{type}\" callback, which takes\n",
       "        // the figure and JSON message as its only arguments.\n",
       "        try {\n",
       "            var callback = fig[\"handle_\" + msg_type];\n",
       "        } catch (e) {\n",
       "            console.log(\"No handler for the '\" + msg_type + \"' message type: \", msg);\n",
       "            return;\n",
       "        }\n",
       "\n",
       "        if (callback) {\n",
       "            try {\n",
       "                // console.log(\"Handling '\" + msg_type + \"' message: \", msg);\n",
       "                callback(fig, msg);\n",
       "            } catch (e) {\n",
       "                console.log(\"Exception inside the 'handler_\" + msg_type + \"' callback:\", e, e.stack, msg);\n",
       "            }\n",
       "        }\n",
       "    };\n",
       "}\n",
       "\n",
       "// from http://stackoverflow.com/questions/1114465/getting-mouse-location-in-canvas\n",
       "mpl.findpos = function(e) {\n",
       "    //this section is from http://www.quirksmode.org/js/events_properties.html\n",
       "    var targ;\n",
       "    if (!e)\n",
       "        e = window.event;\n",
       "    if (e.target)\n",
       "        targ = e.target;\n",
       "    else if (e.srcElement)\n",
       "        targ = e.srcElement;\n",
       "    if (targ.nodeType == 3) // defeat Safari bug\n",
       "        targ = targ.parentNode;\n",
       "\n",
       "    // jQuery normalizes the pageX and pageY\n",
       "    // pageX,Y are the mouse positions relative to the document\n",
       "    // offset() returns the position of the element relative to the document\n",
       "    var x = e.pageX - $(targ).offset().left;\n",
       "    var y = e.pageY - $(targ).offset().top;\n",
       "\n",
       "    return {\"x\": x, \"y\": y};\n",
       "};\n",
       "\n",
       "/*\n",
       " * return a copy of an object with only non-object keys\n",
       " * we need this to avoid circular references\n",
       " * http://stackoverflow.com/a/24161582/3208463\n",
       " */\n",
       "function simpleKeys (original) {\n",
       "  return Object.keys(original).reduce(function (obj, key) {\n",
       "    if (typeof original[key] !== 'object')\n",
       "        obj[key] = original[key]\n",
       "    return obj;\n",
       "  }, {});\n",
       "}\n",
       "\n",
       "mpl.figure.prototype.mouse_event = function(event, name) {\n",
       "    var canvas_pos = mpl.findpos(event)\n",
       "\n",
       "    if (name === 'button_press')\n",
       "    {\n",
       "        this.canvas.focus();\n",
       "        this.canvas_div.focus();\n",
       "    }\n",
       "\n",
       "    var x = canvas_pos.x;\n",
       "    var y = canvas_pos.y;\n",
       "\n",
       "    this.send_message(name, {x: x, y: y, button: event.button,\n",
       "                             step: event.step,\n",
       "                             guiEvent: simpleKeys(event)});\n",
       "\n",
       "    /* This prevents the web browser from automatically changing to\n",
       "     * the text insertion cursor when the button is pressed.  We want\n",
       "     * to control all of the cursor setting manually through the\n",
       "     * 'cursor' event from matplotlib */\n",
       "    event.preventDefault();\n",
       "    return false;\n",
       "}\n",
       "\n",
       "mpl.figure.prototype._key_event_extra = function(event, name) {\n",
       "    // Handle any extra behaviour associated with a key event\n",
       "}\n",
       "\n",
       "mpl.figure.prototype.key_event = function(event, name) {\n",
       "\n",
       "    // Prevent repeat events\n",
       "    if (name == 'key_press')\n",
       "    {\n",
       "        if (event.which === this._key)\n",
       "            return;\n",
       "        else\n",
       "            this._key = event.which;\n",
       "    }\n",
       "    if (name == 'key_release')\n",
       "        this._key = null;\n",
       "\n",
       "    var value = '';\n",
       "    if (event.ctrlKey && event.which != 17)\n",
       "        value += \"ctrl+\";\n",
       "    if (event.altKey && event.which != 18)\n",
       "        value += \"alt+\";\n",
       "    if (event.shiftKey && event.which != 16)\n",
       "        value += \"shift+\";\n",
       "\n",
       "    value += 'k';\n",
       "    value += event.which.toString();\n",
       "\n",
       "    this._key_event_extra(event, name);\n",
       "\n",
       "    this.send_message(name, {key: value,\n",
       "                             guiEvent: simpleKeys(event)});\n",
       "    return false;\n",
       "}\n",
       "\n",
       "mpl.figure.prototype.toolbar_button_onclick = function(name) {\n",
       "    if (name == 'download') {\n",
       "        this.handle_save(this, null);\n",
       "    } else {\n",
       "        this.send_message(\"toolbar_button\", {name: name});\n",
       "    }\n",
       "};\n",
       "\n",
       "mpl.figure.prototype.toolbar_button_onmouseover = function(tooltip) {\n",
       "    this.message.textContent = tooltip;\n",
       "};\n",
       "mpl.toolbar_items = [[\"Home\", \"Reset original view\", \"fa fa-home icon-home\", \"home\"], [\"Back\", \"Back to  previous view\", \"fa fa-arrow-left icon-arrow-left\", \"back\"], [\"Forward\", \"Forward to next view\", \"fa fa-arrow-right icon-arrow-right\", \"forward\"], [\"\", \"\", \"\", \"\"], [\"Pan\", \"Pan axes with left mouse, zoom with right\", \"fa fa-arrows icon-move\", \"pan\"], [\"Zoom\", \"Zoom to rectangle\", \"fa fa-square-o icon-check-empty\", \"zoom\"], [\"\", \"\", \"\", \"\"], [\"Download\", \"Download plot\", \"fa fa-floppy-o icon-save\", \"download\"]];\n",
       "\n",
       "mpl.extensions = [\"eps\", \"jpeg\", \"pdf\", \"png\", \"ps\", \"raw\", \"svg\", \"tif\"];\n",
       "\n",
       "mpl.default_extension = \"png\";var comm_websocket_adapter = function(comm) {\n",
       "    // Create a \"websocket\"-like object which calls the given IPython comm\n",
       "    // object with the appropriate methods. Currently this is a non binary\n",
       "    // socket, so there is still some room for performance tuning.\n",
       "    var ws = {};\n",
       "\n",
       "    ws.close = function() {\n",
       "        comm.close()\n",
       "    };\n",
       "    ws.send = function(m) {\n",
       "        //console.log('sending', m);\n",
       "        comm.send(m);\n",
       "    };\n",
       "    // Register the callback with on_msg.\n",
       "    comm.on_msg(function(msg) {\n",
       "        //console.log('receiving', msg['content']['data'], msg);\n",
       "        // Pass the mpl event to the overriden (by mpl) onmessage function.\n",
       "        ws.onmessage(msg['content']['data'])\n",
       "    });\n",
       "    return ws;\n",
       "}\n",
       "\n",
       "mpl.mpl_figure_comm = function(comm, msg) {\n",
       "    // This is the function which gets called when the mpl process\n",
       "    // starts-up an IPython Comm through the \"matplotlib\" channel.\n",
       "\n",
       "    var id = msg.content.data.id;\n",
       "    // Get hold of the div created by the display call when the Comm\n",
       "    // socket was opened in Python.\n",
       "    var element = $(\"#\" + id);\n",
       "    var ws_proxy = comm_websocket_adapter(comm)\n",
       "\n",
       "    function ondownload(figure, format) {\n",
       "        window.open(figure.imageObj.src);\n",
       "    }\n",
       "\n",
       "    var fig = new mpl.figure(id, ws_proxy,\n",
       "                           ondownload,\n",
       "                           element.get(0));\n",
       "\n",
       "    // Call onopen now - mpl needs it, as it is assuming we've passed it a real\n",
       "    // web socket which is closed, not our websocket->open comm proxy.\n",
       "    ws_proxy.onopen();\n",
       "\n",
       "    fig.parent_element = element.get(0);\n",
       "    fig.cell_info = mpl.find_output_cell(\"<div id='\" + id + \"'></div>\");\n",
       "    if (!fig.cell_info) {\n",
       "        console.error(\"Failed to find cell for figure\", id, fig);\n",
       "        return;\n",
       "    }\n",
       "\n",
       "    var output_index = fig.cell_info[2]\n",
       "    var cell = fig.cell_info[0];\n",
       "\n",
       "};\n",
       "\n",
       "mpl.figure.prototype.handle_close = function(fig, msg) {\n",
       "    fig.root.unbind('remove')\n",
       "\n",
       "    // Update the output cell to use the data from the current canvas.\n",
       "    fig.push_to_output();\n",
       "    var dataURL = fig.canvas.toDataURL();\n",
       "    // Re-enable the keyboard manager in IPython - without this line, in FF,\n",
       "    // the notebook keyboard shortcuts fail.\n",
       "    IPython.keyboard_manager.enable()\n",
       "    $(fig.parent_element).html('<img src=\"' + dataURL + '\">');\n",
       "    fig.close_ws(fig, msg);\n",
       "}\n",
       "\n",
       "mpl.figure.prototype.close_ws = function(fig, msg){\n",
       "    fig.send_message('closing', msg);\n",
       "    // fig.ws.close()\n",
       "}\n",
       "\n",
       "mpl.figure.prototype.push_to_output = function(remove_interactive) {\n",
       "    // Turn the data on the canvas into data in the output cell.\n",
       "    var dataURL = this.canvas.toDataURL();\n",
       "    this.cell_info[1]['text/html'] = '<img src=\"' + dataURL + '\">';\n",
       "}\n",
       "\n",
       "mpl.figure.prototype.updated_canvas_event = function() {\n",
       "    // Tell IPython that the notebook contents must change.\n",
       "    IPython.notebook.set_dirty(true);\n",
       "    this.send_message(\"ack\", {});\n",
       "    var fig = this;\n",
       "    // Wait a second, then push the new image to the DOM so\n",
       "    // that it is saved nicely (might be nice to debounce this).\n",
       "    setTimeout(function () { fig.push_to_output() }, 1000);\n",
       "}\n",
       "\n",
       "mpl.figure.prototype._init_toolbar = function() {\n",
       "    var fig = this;\n",
       "\n",
       "    var nav_element = $('<div/>')\n",
       "    nav_element.attr('style', 'width: 100%');\n",
       "    this.root.append(nav_element);\n",
       "\n",
       "    // Define a callback function for later on.\n",
       "    function toolbar_event(event) {\n",
       "        return fig.toolbar_button_onclick(event['data']);\n",
       "    }\n",
       "    function toolbar_mouse_event(event) {\n",
       "        return fig.toolbar_button_onmouseover(event['data']);\n",
       "    }\n",
       "\n",
       "    for(var toolbar_ind in mpl.toolbar_items){\n",
       "        var name = mpl.toolbar_items[toolbar_ind][0];\n",
       "        var tooltip = mpl.toolbar_items[toolbar_ind][1];\n",
       "        var image = mpl.toolbar_items[toolbar_ind][2];\n",
       "        var method_name = mpl.toolbar_items[toolbar_ind][3];\n",
       "\n",
       "        if (!name) { continue; };\n",
       "\n",
       "        var button = $('<button class=\"btn btn-default\" href=\"#\" title=\"' + name + '\"><i class=\"fa ' + image + ' fa-lg\"></i></button>');\n",
       "        button.click(method_name, toolbar_event);\n",
       "        button.mouseover(tooltip, toolbar_mouse_event);\n",
       "        nav_element.append(button);\n",
       "    }\n",
       "\n",
       "    // Add the status bar.\n",
       "    var status_bar = $('<span class=\"mpl-message\" style=\"text-align:right; float: right;\"/>');\n",
       "    nav_element.append(status_bar);\n",
       "    this.message = status_bar[0];\n",
       "\n",
       "    // Add the close button to the window.\n",
       "    var buttongrp = $('<div class=\"btn-group inline pull-right\"></div>');\n",
       "    var button = $('<button class=\"btn btn-mini btn-primary\" href=\"#\" title=\"Stop Interaction\"><i class=\"fa fa-power-off icon-remove icon-large\"></i></button>');\n",
       "    button.click(function (evt) { fig.handle_close(fig, {}); } );\n",
       "    button.mouseover('Stop Interaction', toolbar_mouse_event);\n",
       "    buttongrp.append(button);\n",
       "    var titlebar = this.root.find($('.ui-dialog-titlebar'));\n",
       "    titlebar.prepend(buttongrp);\n",
       "}\n",
       "\n",
       "mpl.figure.prototype._root_extra_style = function(el){\n",
       "    var fig = this\n",
       "    el.on(\"remove\", function(){\n",
       "\tfig.close_ws(fig, {});\n",
       "    });\n",
       "}\n",
       "\n",
       "mpl.figure.prototype._canvas_extra_style = function(el){\n",
       "    // this is important to make the div 'focusable\n",
       "    el.attr('tabindex', 0)\n",
       "    // reach out to IPython and tell the keyboard manager to turn it's self\n",
       "    // off when our div gets focus\n",
       "\n",
       "    // location in version 3\n",
       "    if (IPython.notebook.keyboard_manager) {\n",
       "        IPython.notebook.keyboard_manager.register_events(el);\n",
       "    }\n",
       "    else {\n",
       "        // location in version 2\n",
       "        IPython.keyboard_manager.register_events(el);\n",
       "    }\n",
       "\n",
       "}\n",
       "\n",
       "mpl.figure.prototype._key_event_extra = function(event, name) {\n",
       "    var manager = IPython.notebook.keyboard_manager;\n",
       "    if (!manager)\n",
       "        manager = IPython.keyboard_manager;\n",
       "\n",
       "    // Check for shift+enter\n",
       "    if (event.shiftKey && event.which == 13) {\n",
       "        this.canvas_div.blur();\n",
       "        event.shiftKey = false;\n",
       "        // Send a \"J\" for go to next cell\n",
       "        event.which = 74;\n",
       "        event.keyCode = 74;\n",
       "        manager.command_mode();\n",
       "        manager.handle_keydown(event);\n",
       "    }\n",
       "}\n",
       "\n",
       "mpl.figure.prototype.handle_save = function(fig, msg) {\n",
       "    fig.ondownload(fig, null);\n",
       "}\n",
       "\n",
       "\n",
       "mpl.find_output_cell = function(html_output) {\n",
       "    // Return the cell and output element which can be found *uniquely* in the notebook.\n",
       "    // Note - this is a bit hacky, but it is done because the \"notebook_saving.Notebook\"\n",
       "    // IPython event is triggered only after the cells have been serialised, which for\n",
       "    // our purposes (turning an active figure into a static one), is too late.\n",
       "    var cells = IPython.notebook.get_cells();\n",
       "    var ncells = cells.length;\n",
       "    for (var i=0; i<ncells; i++) {\n",
       "        var cell = cells[i];\n",
       "        if (cell.cell_type === 'code'){\n",
       "            for (var j=0; j<cell.output_area.outputs.length; j++) {\n",
       "                var data = cell.output_area.outputs[j];\n",
       "                if (data.data) {\n",
       "                    // IPython >= 3 moved mimebundle to data attribute of output\n",
       "                    data = data.data;\n",
       "                }\n",
       "                if (data['text/html'] == html_output) {\n",
       "                    return [cell, data, j];\n",
       "                }\n",
       "            }\n",
       "        }\n",
       "    }\n",
       "}\n",
       "\n",
       "// Register the function which deals with the matplotlib target/channel.\n",
       "// The kernel may be null if the page has been refreshed.\n",
       "if (IPython.notebook.kernel != null) {\n",
       "    IPython.notebook.kernel.comm_manager.register_target('matplotlib', mpl.mpl_figure_comm);\n",
       "}\n"
      ],
      "text/plain": [
       "<IPython.core.display.Javascript object>"
      ]
     },
     "metadata": {},
     "output_type": "display_data"
    },
    {
     "data": {
      "text/html": [
       "<img src=\"data:image/png;base64,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\">"
      ],
      "text/plain": [
       "<IPython.core.display.HTML object>"
      ]
     },
     "metadata": {},
     "output_type": "display_data"
    }
   ],
   "source": [
    "# plotting histogram from ratings\n",
    "%matplotlib notebook\n",
    "plt.hist(data['rating'])\n",
    "plt.title(\"Histogram For Ratings\")\n",
    "plt.xlabel(\"Level of Ratings\")\n",
    "plt.ylabel(\"Number of Movies Rated\")\n",
    "plt.show()"
   ]
  },
  {
   "cell_type": "markdown",
   "metadata": {},
   "source": [
    "#### The data sparsity can be calculated as follow\n",
    "##### \"\"\" Sparsity = (# of ratings / # of movies * # of Users) * 100% \"\"\""
   ]
  },
  {
   "cell_type": "code",
   "execution_count": 7,
   "metadata": {
    "collapsed": false
   },
   "outputs": [
    {
     "name": "stdout",
     "output_type": "stream",
     "text": [
      "Sparsity of Dataset is 6.30466936422 Percent\n"
     ]
    }
   ],
   "source": [
    "# Now, we can recalculate the sparsity as we did earlier.\n",
    "num_ratings = float(len(data))\n",
    "num_movies = float(len(np.unique(data[\"item_id\"])))\n",
    "num_users = float(len(np.unique(data[\"user_id\"])))\n",
    "sparsity = (num_ratings / (num_movies * num_users)) * 100.0\n",
    "print \"Sparsity of Dataset is\", sparsity, \"Percent\""
   ]
  },
  {
   "cell_type": "code",
   "execution_count": 8,
   "metadata": {
    "collapsed": true
   },
   "outputs": [],
   "source": [
    "# Get the column containing the users\n",
    "users = data.user_id\n",
    "# Create a dictionary from users to their number of ratings\n",
    "ratings_count = dict()\n",
    "for user in users:\n",
    "    # If we already have the user, just add 1 to their rating count\n",
    "    if user in ratings_count:\n",
    "        ratings_count[user] += 1\n",
    "    # Otherwise, set their rating count to 1\n",
    "    else:\n",
    "        ratings_count[user] = 1"
   ]
  },
  {
   "cell_type": "code",
   "execution_count": 9,
   "metadata": {
    "collapsed": true
   },
   "outputs": [],
   "source": [
    "# We want our users to have at least 50 ratings to be considred\n",
    "RATINGS_CUTOFF = 50\n",
    "remove_users = []\n",
    "for user, num_ratings in ratings_count.iteritems():\n",
    "    if num_ratings < RATINGS_CUTOFF:\n",
    "        remove_users.append(user)\n",
    "data = data.loc[~data.user_id.isin(remove_users)]"
   ]
  },
  {
   "cell_type": "code",
   "execution_count": 10,
   "metadata": {
    "collapsed": false
   },
   "outputs": [
    {
     "name": "stdout",
     "output_type": "stream",
     "text": [
      "UPDATED Sparsity of Dataset is 9.26584192843 Percent\n"
     ]
    }
   ],
   "source": [
    "# Now, we can recalculate the sparsity as we did earlier.\n",
    "num_ratings = float(len(data))\n",
    "num_movies = float(len(np.unique(data[\"item_id\"])))\n",
    "num_users = float(len(np.unique(data[\"user_id\"])))\n",
    "sparsity = (num_ratings / (num_movies * num_users)) * 100.0\n",
    "print \"UPDATED Sparsity of Dataset is\", sparsity, \"Percent\"\n"
   ]
  },
  {
   "cell_type": "markdown",
   "metadata": {
    "collapsed": true
   },
   "source": [
    "####   Integrating a Popularity Recommender ####"
   ]
  },
  {
   "cell_type": "code",
   "execution_count": 12,
   "metadata": {
    "collapsed": false
   },
   "outputs": [],
   "source": [
    "# convert our data to a graphlab SFrame object\n",
    "sf = gl.SFrame(data)"
   ]
  },
  {
   "cell_type": "markdown",
   "metadata": {
    "collapsed": true
   },
   "source": [
    "#### Train/Test/Validation Split"
   ]
  },
  {
   "cell_type": "code",
   "execution_count": 13,
   "metadata": {
    "collapsed": true
   },
   "outputs": [],
   "source": [
    "# splitting into train and test set\n",
    "sf_train, sf_test = sf.random_split(.70)"
   ]
  },
  {
   "cell_type": "code",
   "execution_count": 14,
   "metadata": {
    "collapsed": true
   },
   "outputs": [],
   "source": [
    "# splitting further the 70% train set into 75% train set and 25% validate set\n",
    "sf_train, sf_validate = sf_train.random_split(.75)"
   ]
  },
  {
   "cell_type": "markdown",
   "metadata": {},
   "source": [
    "#### Training data on trainset and examine RMSE on Test set\n",
    "(using graphlab popularity reccomender)"
   ]
  },
  {
   "cell_type": "code",
   "execution_count": 15,
   "metadata": {
    "collapsed": false
   },
   "outputs": [
    {
     "data": {
      "text/html": [
       "<pre>Recsys training: model = popularity</pre>"
      ],
      "text/plain": [
       "Recsys training: model = popularity"
      ]
     },
     "metadata": {},
     "output_type": "display_data"
    },
    {
     "data": {
      "text/html": [
       "<pre>Preparing data set.</pre>"
      ],
      "text/plain": [
       "Preparing data set."
      ]
     },
     "metadata": {},
     "output_type": "display_data"
    },
    {
     "data": {
      "text/html": [
       "<pre>    Data has 46642 observations with 568 users and 1583 items.</pre>"
      ],
      "text/plain": [
       "    Data has 46642 observations with 568 users and 1583 items."
      ]
     },
     "metadata": {},
     "output_type": "display_data"
    },
    {
     "data": {
      "text/html": [
       "<pre>    Data prepared in: 0.241014s</pre>"
      ],
      "text/plain": [
       "    Data prepared in: 0.241014s"
      ]
     },
     "metadata": {},
     "output_type": "display_data"
    },
    {
     "data": {
      "text/html": [
       "<pre>46642 observations to process; with 1583 unique items.</pre>"
      ],
      "text/plain": [
       "46642 observations to process; with 1583 unique items."
      ]
     },
     "metadata": {},
     "output_type": "display_data"
    },
    {
     "data": {
      "text/plain": [
       "{'rmse_by_item': Columns:\n",
       " \titem_id\tint\n",
       " \tcount\tint\n",
       " \trmse\tfloat\n",
       " \n",
       " Rows: 1480\n",
       " \n",
       " Data:\n",
       " +---------+-------+----------------+\n",
       " | item_id | count |      rmse      |\n",
       " +---------+-------+----------------+\n",
       " |   118   |   76  | 1.11399712174  |\n",
       " |   660   |   45  | 1.00982156014  |\n",
       " |   1236  |   1   | 0.522490459243 |\n",
       " |   1379  |   3   | 1.37436854187  |\n",
       " |   699   |   33  | 1.13021740734  |\n",
       " |   567   |   8   | 1.32064892133  |\n",
       " |   773   |   6   | 1.01379375505  |\n",
       " |   1029  |   4   | 1.57797338381  |\n",
       " |   1504  |   2   | 0.707106781187 |\n",
       " |   435   |   59  | 0.812435324826 |\n",
       " +---------+-------+----------------+\n",
       " [1480 rows x 3 columns]\n",
       " Note: Only the head of the SFrame is printed.\n",
       " You can use print_rows(num_rows=m, num_columns=n) to print more rows and columns.,\n",
       " 'rmse_by_user': Columns:\n",
       " \tuser_id\tint\n",
       " \tcount\tint\n",
       " \trmse\tfloat\n",
       " \n",
       " Rows: 568\n",
       " \n",
       " Data:\n",
       " +---------+-------+----------------+\n",
       " | user_id | count |      rmse      |\n",
       " +---------+-------+----------------+\n",
       " |   118   |   23  | 1.21808023796  |\n",
       " |   660   |   63  | 1.11809007569  |\n",
       " |   839   |   16  | 1.01420112528  |\n",
       " |   699   |   53  | 0.875069886012 |\n",
       " |   567   |   47  | 1.09683283003  |\n",
       " |   773   |   48  | 1.06035207439  |\n",
       " |   435   |  111  | 0.93767487881  |\n",
       " |   554   |   32  | 0.717871223225 |\n",
       " |   840   |   58  | 0.851614730196 |\n",
       " |   537   |  153  | 1.08342634847  |\n",
       " +---------+-------+----------------+\n",
       " [568 rows x 3 columns]\n",
       " Note: Only the head of the SFrame is printed.\n",
       " You can use print_rows(num_rows=m, num_columns=n) to print more rows and columns.,\n",
       " 'rmse_overall': 1.0269266098708425}"
      ]
     },
     "execution_count": 15,
     "metadata": {},
     "output_type": "execute_result"
    }
   ],
   "source": [
    "import graphlab as gl\n",
    "popularity_recommender = gl.recommender.popularity_recommender.create(sf_train, target='rating')\n",
    "popularity_recommender.evaluate_rmse(sf_test, 'rating')"
   ]
  },
  {
   "cell_type": "markdown",
   "metadata": {},
   "source": [
    "### Integrating a Collaborative Filtering Recommender ######\n",
    "\n",
    "Using graphlab factorization recommender model\n"
   ]
  },
  {
   "cell_type": "code",
   "execution_count": 16,
   "metadata": {
    "collapsed": true
   },
   "outputs": [],
   "source": [
    "# We will try regularization terms in the range [10**-5, 10**-1]\n",
    "regularization_terms = [10**-5, 10**-4, 10**-3, 10**-2, 10**-1]"
   ]
  },
  {
   "cell_type": "code",
   "execution_count": 17,
   "metadata": {
    "collapsed": false
   },
   "outputs": [
    {
     "data": {
      "text/html": [
       "<pre>Recsys training: model = factorization_recommender</pre>"
      ],
      "text/plain": [
       "Recsys training: model = factorization_recommender"
      ]
     },
     "metadata": {},
     "output_type": "display_data"
    },
    {
     "data": {
      "text/html": [
       "<pre>Preparing data set.</pre>"
      ],
      "text/plain": [
       "Preparing data set."
      ]
     },
     "metadata": {},
     "output_type": "display_data"
    },
    {
     "data": {
      "text/html": [
       "<pre>    Data has 46642 observations with 568 users and 1583 items.</pre>"
      ],
      "text/plain": [
       "    Data has 46642 observations with 568 users and 1583 items."
      ]
     },
     "metadata": {},
     "output_type": "display_data"
    },
    {
     "data": {
      "text/html": [
       "<pre>    Data prepared in: 0.151009s</pre>"
      ],
      "text/plain": [
       "    Data prepared in: 0.151009s"
      ]
     },
     "metadata": {},
     "output_type": "display_data"
    },
    {
     "data": {
      "text/html": [
       "<pre>Training factorization_recommender for recommendations.</pre>"
      ],
      "text/plain": [
       "Training factorization_recommender for recommendations."
      ]
     },
     "metadata": {},
     "output_type": "display_data"
    },
    {
     "data": {
      "text/html": [
       "<pre>+--------------------------------+--------------------------------------------------+----------+</pre>"
      ],
      "text/plain": [
       "+--------------------------------+--------------------------------------------------+----------+"
      ]
     },
     "metadata": {},
     "output_type": "display_data"
    },
    {
     "data": {
      "text/html": [
       "<pre>| Parameter                      | Description                                      | Value    |</pre>"
      ],
      "text/plain": [
       "| Parameter                      | Description                                      | Value    |"
      ]
     },
     "metadata": {},
     "output_type": "display_data"
    },
    {
     "data": {
      "text/html": [
       "<pre>+--------------------------------+--------------------------------------------------+----------+</pre>"
      ],
      "text/plain": [
       "+--------------------------------+--------------------------------------------------+----------+"
      ]
     },
     "metadata": {},
     "output_type": "display_data"
    },
    {
     "data": {
      "text/html": [
       "<pre>| num_factors                    | Factor Dimension                                 | 8        |</pre>"
      ],
      "text/plain": [
       "| num_factors                    | Factor Dimension                                 | 8        |"
      ]
     },
     "metadata": {},
     "output_type": "display_data"
    },
    {
     "data": {
      "text/html": [
       "<pre>| regularization                 | L2 Regularization on Factors                     | 1e-005   |</pre>"
      ],
      "text/plain": [
       "| regularization                 | L2 Regularization on Factors                     | 1e-005   |"
      ]
     },
     "metadata": {},
     "output_type": "display_data"
    },
    {
     "data": {
      "text/html": [
       "<pre>| solver                         | Solver used for training                         | sgd      |</pre>"
      ],
      "text/plain": [
       "| solver                         | Solver used for training                         | sgd      |"
      ]
     },
     "metadata": {},
     "output_type": "display_data"
    },
    {
     "data": {
      "text/html": [
       "<pre>| linear_regularization          | L2 Regularization on Linear Coefficients         | 1e-010   |</pre>"
      ],
      "text/plain": [
       "| linear_regularization          | L2 Regularization on Linear Coefficients         | 1e-010   |"
      ]
     },
     "metadata": {},
     "output_type": "display_data"
    },
    {
     "data": {
      "text/html": [
       "<pre>| max_iterations                 | Maximum Number of Iterations                     | 50       |</pre>"
      ],
      "text/plain": [
       "| max_iterations                 | Maximum Number of Iterations                     | 50       |"
      ]
     },
     "metadata": {},
     "output_type": "display_data"
    },
    {
     "data": {
      "text/html": [
       "<pre>+--------------------------------+--------------------------------------------------+----------+</pre>"
      ],
      "text/plain": [
       "+--------------------------------+--------------------------------------------------+----------+"
      ]
     },
     "metadata": {},
     "output_type": "display_data"
    },
    {
     "data": {
      "text/html": [
       "<pre>  Optimizing model using SGD; tuning step size.</pre>"
      ],
      "text/plain": [
       "  Optimizing model using SGD; tuning step size."
      ]
     },
     "metadata": {},
     "output_type": "display_data"
    },
    {
     "data": {
      "text/html": [
       "<pre>  Using 10000 / 46642 points for tuning the step size.</pre>"
      ],
      "text/plain": [
       "  Using 10000 / 46642 points for tuning the step size."
      ]
     },
     "metadata": {},
     "output_type": "display_data"
    },
    {
     "data": {
      "text/html": [
       "<pre>+---------+-------------------+------------------------------------------+</pre>"
      ],
      "text/plain": [
       "+---------+-------------------+------------------------------------------+"
      ]
     },
     "metadata": {},
     "output_type": "display_data"
    },
    {
     "data": {
      "text/html": [
       "<pre>| Attempt | Initial Step Size | Estimated Objective Value                |</pre>"
      ],
      "text/plain": [
       "| Attempt | Initial Step Size | Estimated Objective Value                |"
      ]
     },
     "metadata": {},
     "output_type": "display_data"
    },
    {
     "data": {
      "text/html": [
       "<pre>+---------+-------------------+------------------------------------------+</pre>"
      ],
      "text/plain": [
       "+---------+-------------------+------------------------------------------+"
      ]
     },
     "metadata": {},
     "output_type": "display_data"
    },
    {
     "data": {
      "text/html": [
       "<pre>| 0       | 25                | Not Viable                               |</pre>"
      ],
      "text/plain": [
       "| 0       | 25                | Not Viable                               |"
      ]
     },
     "metadata": {},
     "output_type": "display_data"
    },
    {
     "data": {
      "text/html": [
       "<pre>| 1       | 6.25              | Not Viable                               |</pre>"
      ],
      "text/plain": [
       "| 1       | 6.25              | Not Viable                               |"
      ]
     },
     "metadata": {},
     "output_type": "display_data"
    },
    {
     "data": {
      "text/html": [
       "<pre>| 2       | 1.5625            | Not Viable                               |</pre>"
      ],
      "text/plain": [
       "| 2       | 1.5625            | Not Viable                               |"
      ]
     },
     "metadata": {},
     "output_type": "display_data"
    },
    {
     "data": {
      "text/html": [
       "<pre>| 3       | 0.390625          | Not Viable                               |</pre>"
      ],
      "text/plain": [
       "| 3       | 0.390625          | Not Viable                               |"
      ]
     },
     "metadata": {},
     "output_type": "display_data"
    },
    {
     "data": {
      "text/html": [
       "<pre>| 4       | 0.0976562         | 0.703515                                 |</pre>"
      ],
      "text/plain": [
       "| 4       | 0.0976562         | 0.703515                                 |"
      ]
     },
     "metadata": {},
     "output_type": "display_data"
    },
    {
     "data": {
      "text/html": [
       "<pre>| 5       | 0.0488281         | 0.724791                                 |</pre>"
      ],
      "text/plain": [
       "| 5       | 0.0488281         | 0.724791                                 |"
      ]
     },
     "metadata": {},
     "output_type": "display_data"
    },
    {
     "data": {
      "text/html": [
       "<pre>| 6       | 0.0244141         | 0.768522                                 |</pre>"
      ],
      "text/plain": [
       "| 6       | 0.0244141         | 0.768522                                 |"
      ]
     },
     "metadata": {},
     "output_type": "display_data"
    },
    {
     "data": {
      "text/html": [
       "<pre>| 7       | 0.012207          | 0.834946                                 |</pre>"
      ],
      "text/plain": [
       "| 7       | 0.012207          | 0.834946                                 |"
      ]
     },
     "metadata": {},
     "output_type": "display_data"
    },
    {
     "data": {
      "text/html": [
       "<pre>+---------+-------------------+------------------------------------------+</pre>"
      ],
      "text/plain": [
       "+---------+-------------------+------------------------------------------+"
      ]
     },
     "metadata": {},
     "output_type": "display_data"
    },
    {
     "data": {
      "text/html": [
       "<pre>| Final   | 0.0976562         | 0.703515                                 |</pre>"
      ],
      "text/plain": [
       "| Final   | 0.0976562         | 0.703515                                 |"
      ]
     },
     "metadata": {},
     "output_type": "display_data"
    },
    {
     "data": {
      "text/html": [
       "<pre>+---------+-------------------+------------------------------------------+</pre>"
      ],
      "text/plain": [
       "+---------+-------------------+------------------------------------------+"
      ]
     },
     "metadata": {},
     "output_type": "display_data"
    },
    {
     "data": {
      "text/html": [
       "<pre>Starting Optimization.</pre>"
      ],
      "text/plain": [
       "Starting Optimization."
      ]
     },
     "metadata": {},
     "output_type": "display_data"
    },
    {
     "data": {
      "text/html": [
       "<pre>+---------+--------------+-------------------+-----------------------+-------------+</pre>"
      ],
      "text/plain": [
       "+---------+--------------+-------------------+-----------------------+-------------+"
      ]
     },
     "metadata": {},
     "output_type": "display_data"
    },
    {
     "data": {
      "text/html": [
       "<pre>| Iter.   | Elapsed Time | Approx. Objective | Approx. Training RMSE | Step Size   |</pre>"
      ],
      "text/plain": [
       "| Iter.   | Elapsed Time | Approx. Objective | Approx. Training RMSE | Step Size   |"
      ]
     },
     "metadata": {},
     "output_type": "display_data"
    },
    {
     "data": {
      "text/html": [
       "<pre>+---------+--------------+-------------------+-----------------------+-------------+</pre>"
      ],
      "text/plain": [
       "+---------+--------------+-------------------+-----------------------+-------------+"
      ]
     },
     "metadata": {},
     "output_type": "display_data"
    },
    {
     "data": {
      "text/html": [
       "<pre>| Initial | 0us          | 1.25466           | 1.12012               |             |</pre>"
      ],
      "text/plain": [
       "| Initial | 0us          | 1.25466           | 1.12012               |             |"
      ]
     },
     "metadata": {},
     "output_type": "display_data"
    },
    {
     "data": {
      "text/html": [
       "<pre>+---------+--------------+-------------------+-----------------------+-------------+</pre>"
      ],
      "text/plain": [
       "+---------+--------------+-------------------+-----------------------+-------------+"
      ]
     },
     "metadata": {},
     "output_type": "display_data"
    },
    {
     "data": {
      "text/html": [
       "<pre>| 1       | 110.006ms    | 1.0676            | 1.03317               | 0.0976562   |</pre>"
      ],
      "text/plain": [
       "| 1       | 110.006ms    | 1.0676            | 1.03317               | 0.0976562   |"
      ]
     },
     "metadata": {},
     "output_type": "display_data"
    },
    {
     "data": {
      "text/html": [
       "<pre>| 2       | 260.015ms    | 0.929959          | 0.963368              | 0.0580668   |</pre>"
      ],
      "text/plain": [
       "| 2       | 260.015ms    | 0.929959          | 0.963368              | 0.0580668   |"
      ]
     },
     "metadata": {},
     "output_type": "display_data"
    },
    {
     "data": {
      "text/html": [
       "<pre>| 3       | 288.016ms    | 0.861258          | 0.926357              | 0.042841    |</pre>"
      ],
      "text/plain": [
       "| 3       | 288.016ms    | 0.861258          | 0.926357              | 0.042841    |"
      ]
     },
     "metadata": {},
     "output_type": "display_data"
    },
    {
     "data": {
      "text/html": [
       "<pre>| 4       | 609.034ms    | 0.815352          | 0.900336              | 0.0345267   |</pre>"
      ],
      "text/plain": [
       "| 4       | 609.034ms    | 0.815352          | 0.900336              | 0.0345267   |"
      ]
     },
     "metadata": {},
     "output_type": "display_data"
    },
    {
     "data": {
      "text/html": [
       "<pre>| 5       | 661.037ms    | 0.763899          | 0.870085              | 0.029206    |</pre>"
      ],
      "text/plain": [
       "| 5       | 661.037ms    | 0.763899          | 0.870085              | 0.029206    |"
      ]
     },
     "metadata": {},
     "output_type": "display_data"
    },
    {
     "data": {
      "text/html": [
       "<pre>| 6       | 716.041ms    | 0.712978          | 0.838893              | 0.0254734   |</pre>"
      ],
      "text/plain": [
       "| 6       | 716.041ms    | 0.712978          | 0.838893              | 0.0254734   |"
      ]
     },
     "metadata": {},
     "output_type": "display_data"
    },
    {
     "data": {
      "text/html": [
       "<pre>| 10      | 1.37s        | 0.573047          | 0.745371              | 0.017366    |</pre>"
      ],
      "text/plain": [
       "| 10      | 1.37s        | 0.573047          | 0.745371              | 0.017366    |"
      ]
     },
     "metadata": {},
     "output_type": "display_data"
    },
    {
     "data": {
      "text/html": [
       "<pre>| 11      | 1.55s        | 0.555659          | 0.73265               | 0.016168    |</pre>"
      ],
      "text/plain": [
       "| 11      | 1.55s        | 0.555659          | 0.73265               | 0.016168    |"
      ]
     },
     "metadata": {},
     "output_type": "display_data"
    },
    {
     "data": {
      "text/html": [
       "<pre>| 20      | 2.30s        | 0.488976          | 0.680701              | 0.0103259   |</pre>"
      ],
      "text/plain": [
       "| 20      | 2.30s        | 0.488976          | 0.680701              | 0.0103259   |"
      ]
     },
     "metadata": {},
     "output_type": "display_data"
    },
    {
     "data": {
      "text/html": [
       "<pre>| 30      | 2.98s        | 0.465149          | 0.660282              | 0.00761832  |</pre>"
      ],
      "text/plain": [
       "| 30      | 2.98s        | 0.465149          | 0.660282              | 0.00761832  |"
      ]
     },
     "metadata": {},
     "output_type": "display_data"
    },
    {
     "data": {
      "text/html": [
       "<pre>| 40      | 3.52s        | 0.453154          | 0.649497              | 0.00613981  |</pre>"
      ],
      "text/plain": [
       "| 40      | 3.52s        | 0.453154          | 0.649497              | 0.00613981  |"
      ]
     },
     "metadata": {},
     "output_type": "display_data"
    },
    {
     "data": {
      "text/html": [
       "<pre>| 50      | 4.14s        | 0.446084          | 0.642872              | 0.00519365  |</pre>"
      ],
      "text/plain": [
       "| 50      | 4.14s        | 0.446084          | 0.642872              | 0.00519365  |"
      ]
     },
     "metadata": {},
     "output_type": "display_data"
    },
    {
     "data": {
      "text/html": [
       "<pre>+---------+--------------+-------------------+-----------------------+-------------+</pre>"
      ],
      "text/plain": [
       "+---------+--------------+-------------------+-----------------------+-------------+"
      ]
     },
     "metadata": {},
     "output_type": "display_data"
    },
    {
     "data": {
      "text/html": [
       "<pre>Optimization Complete: Maximum number of passes through the data reached.</pre>"
      ],
      "text/plain": [
       "Optimization Complete: Maximum number of passes through the data reached."
      ]
     },
     "metadata": {},
     "output_type": "display_data"
    },
    {
     "data": {
      "text/html": [
       "<pre>Computing final objective value and training RMSE.</pre>"
      ],
      "text/plain": [
       "Computing final objective value and training RMSE."
      ]
     },
     "metadata": {},
     "output_type": "display_data"
    },
    {
     "data": {
      "text/html": [
       "<pre>       Final objective value: 0.423308</pre>"
      ],
      "text/plain": [
       "       Final objective value: 0.423308"
      ]
     },
     "metadata": {},
     "output_type": "display_data"
    },
    {
     "data": {
      "text/html": [
       "<pre>       Final training RMSE: 0.624906</pre>"
      ],
      "text/plain": [
       "       Final training RMSE: 0.624906"
      ]
     },
     "metadata": {},
     "output_type": "display_data"
    },
    {
     "data": {
      "text/html": [
       "<pre>Recsys training: model = factorization_recommender</pre>"
      ],
      "text/plain": [
       "Recsys training: model = factorization_recommender"
      ]
     },
     "metadata": {},
     "output_type": "display_data"
    },
    {
     "data": {
      "text/html": [
       "<pre>Preparing data set.</pre>"
      ],
      "text/plain": [
       "Preparing data set."
      ]
     },
     "metadata": {},
     "output_type": "display_data"
    },
    {
     "data": {
      "text/html": [
       "<pre>    Data has 46642 observations with 568 users and 1583 items.</pre>"
      ],
      "text/plain": [
       "    Data has 46642 observations with 568 users and 1583 items."
      ]
     },
     "metadata": {},
     "output_type": "display_data"
    },
    {
     "data": {
      "text/html": [
       "<pre>    Data prepared in: 0.193011s</pre>"
      ],
      "text/plain": [
       "    Data prepared in: 0.193011s"
      ]
     },
     "metadata": {},
     "output_type": "display_data"
    },
    {
     "data": {
      "text/html": [
       "<pre>Training factorization_recommender for recommendations.</pre>"
      ],
      "text/plain": [
       "Training factorization_recommender for recommendations."
      ]
     },
     "metadata": {},
     "output_type": "display_data"
    },
    {
     "data": {
      "text/html": [
       "<pre>+--------------------------------+--------------------------------------------------+----------+</pre>"
      ],
      "text/plain": [
       "+--------------------------------+--------------------------------------------------+----------+"
      ]
     },
     "metadata": {},
     "output_type": "display_data"
    },
    {
     "data": {
      "text/html": [
       "<pre>| Parameter                      | Description                                      | Value    |</pre>"
      ],
      "text/plain": [
       "| Parameter                      | Description                                      | Value    |"
      ]
     },
     "metadata": {},
     "output_type": "display_data"
    },
    {
     "data": {
      "text/html": [
       "<pre>+--------------------------------+--------------------------------------------------+----------+</pre>"
      ],
      "text/plain": [
       "+--------------------------------+--------------------------------------------------+----------+"
      ]
     },
     "metadata": {},
     "output_type": "display_data"
    },
    {
     "data": {
      "text/html": [
       "<pre>| num_factors                    | Factor Dimension                                 | 8        |</pre>"
      ],
      "text/plain": [
       "| num_factors                    | Factor Dimension                                 | 8        |"
      ]
     },
     "metadata": {},
     "output_type": "display_data"
    },
    {
     "data": {
      "text/html": [
       "<pre>| regularization                 | L2 Regularization on Factors                     | 0.0001   |</pre>"
      ],
      "text/plain": [
       "| regularization                 | L2 Regularization on Factors                     | 0.0001   |"
      ]
     },
     "metadata": {},
     "output_type": "display_data"
    },
    {
     "data": {
      "text/html": [
       "<pre>| solver                         | Solver used for training                         | sgd      |</pre>"
      ],
      "text/plain": [
       "| solver                         | Solver used for training                         | sgd      |"
      ]
     },
     "metadata": {},
     "output_type": "display_data"
    },
    {
     "data": {
      "text/html": [
       "<pre>| linear_regularization          | L2 Regularization on Linear Coefficients         | 1e-010   |</pre>"
      ],
      "text/plain": [
       "| linear_regularization          | L2 Regularization on Linear Coefficients         | 1e-010   |"
      ]
     },
     "metadata": {},
     "output_type": "display_data"
    },
    {
     "data": {
      "text/html": [
       "<pre>| max_iterations                 | Maximum Number of Iterations                     | 50       |</pre>"
      ],
      "text/plain": [
       "| max_iterations                 | Maximum Number of Iterations                     | 50       |"
      ]
     },
     "metadata": {},
     "output_type": "display_data"
    },
    {
     "data": {
      "text/html": [
       "<pre>+--------------------------------+--------------------------------------------------+----------+</pre>"
      ],
      "text/plain": [
       "+--------------------------------+--------------------------------------------------+----------+"
      ]
     },
     "metadata": {},
     "output_type": "display_data"
    },
    {
     "data": {
      "text/html": [
       "<pre>  Optimizing model using SGD; tuning step size.</pre>"
      ],
      "text/plain": [
       "  Optimizing model using SGD; tuning step size."
      ]
     },
     "metadata": {},
     "output_type": "display_data"
    },
    {
     "data": {
      "text/html": [
       "<pre>  Using 10000 / 46642 points for tuning the step size.</pre>"
      ],
      "text/plain": [
       "  Using 10000 / 46642 points for tuning the step size."
      ]
     },
     "metadata": {},
     "output_type": "display_data"
    },
    {
     "data": {
      "text/html": [
       "<pre>+---------+-------------------+------------------------------------------+</pre>"
      ],
      "text/plain": [
       "+---------+-------------------+------------------------------------------+"
      ]
     },
     "metadata": {},
     "output_type": "display_data"
    },
    {
     "data": {
      "text/html": [
       "<pre>| Attempt | Initial Step Size | Estimated Objective Value                |</pre>"
      ],
      "text/plain": [
       "| Attempt | Initial Step Size | Estimated Objective Value                |"
      ]
     },
     "metadata": {},
     "output_type": "display_data"
    },
    {
     "data": {
      "text/html": [
       "<pre>+---------+-------------------+------------------------------------------+</pre>"
      ],
      "text/plain": [
       "+---------+-------------------+------------------------------------------+"
      ]
     },
     "metadata": {},
     "output_type": "display_data"
    },
    {
     "data": {
      "text/html": [
       "<pre>| 0       | 15.785            | Not Viable                               |</pre>"
      ],
      "text/plain": [
       "| 0       | 15.785            | Not Viable                               |"
      ]
     },
     "metadata": {},
     "output_type": "display_data"
    },
    {
     "data": {
      "text/html": [
       "<pre>| 1       | 3.94626           | Not Viable                               |</pre>"
      ],
      "text/plain": [
       "| 1       | 3.94626           | Not Viable                               |"
      ]
     },
     "metadata": {},
     "output_type": "display_data"
    },
    {
     "data": {
      "text/html": [
       "<pre>| 2       | 0.986565          | Not Viable                               |</pre>"
      ],
      "text/plain": [
       "| 2       | 0.986565          | Not Viable                               |"
      ]
     },
     "metadata": {},
     "output_type": "display_data"
    },
    {
     "data": {
      "text/html": [
       "<pre>| 3       | 0.246641          | 0.439335                                 |</pre>"
      ],
      "text/plain": [
       "| 3       | 0.246641          | 0.439335                                 |"
      ]
     },
     "metadata": {},
     "output_type": "display_data"
    },
    {
     "data": {
      "text/html": [
       "<pre>| 4       | 0.123321          | 0.703161                                 |</pre>"
      ],
      "text/plain": [
       "| 4       | 0.123321          | 0.703161                                 |"
      ]
     },
     "metadata": {},
     "output_type": "display_data"
    },
    {
     "data": {
      "text/html": [
       "<pre>| 5       | 0.0616603         | 0.716477                                 |</pre>"
      ],
      "text/plain": [
       "| 5       | 0.0616603         | 0.716477                                 |"
      ]
     },
     "metadata": {},
     "output_type": "display_data"
    },
    {
     "data": {
      "text/html": [
       "<pre>| 6       | 0.0308301         | 0.752732                                 |</pre>"
      ],
      "text/plain": [
       "| 6       | 0.0308301         | 0.752732                                 |"
      ]
     },
     "metadata": {},
     "output_type": "display_data"
    },
    {
     "data": {
      "text/html": [
       "<pre>+---------+-------------------+------------------------------------------+</pre>"
      ],
      "text/plain": [
       "+---------+-------------------+------------------------------------------+"
      ]
     },
     "metadata": {},
     "output_type": "display_data"
    },
    {
     "data": {
      "text/html": [
       "<pre>| Final   | 0.246641          | 0.439335                                 |</pre>"
      ],
      "text/plain": [
       "| Final   | 0.246641          | 0.439335                                 |"
      ]
     },
     "metadata": {},
     "output_type": "display_data"
    },
    {
     "data": {
      "text/html": [
       "<pre>+---------+-------------------+------------------------------------------+</pre>"
      ],
      "text/plain": [
       "+---------+-------------------+------------------------------------------+"
      ]
     },
     "metadata": {},
     "output_type": "display_data"
    },
    {
     "data": {
      "text/html": [
       "<pre>Starting Optimization.</pre>"
      ],
      "text/plain": [
       "Starting Optimization."
      ]
     },
     "metadata": {},
     "output_type": "display_data"
    },
    {
     "data": {
      "text/html": [
       "<pre>+---------+--------------+-------------------+-----------------------+-------------+</pre>"
      ],
      "text/plain": [
       "+---------+--------------+-------------------+-----------------------+-------------+"
      ]
     },
     "metadata": {},
     "output_type": "display_data"
    },
    {
     "data": {
      "text/html": [
       "<pre>| Iter.   | Elapsed Time | Approx. Objective | Approx. Training RMSE | Step Size   |</pre>"
      ],
      "text/plain": [
       "| Iter.   | Elapsed Time | Approx. Objective | Approx. Training RMSE | Step Size   |"
      ]
     },
     "metadata": {},
     "output_type": "display_data"
    },
    {
     "data": {
      "text/html": [
       "<pre>+---------+--------------+-------------------+-----------------------+-------------+</pre>"
      ],
      "text/plain": [
       "+---------+--------------+-------------------+-----------------------+-------------+"
      ]
     },
     "metadata": {},
     "output_type": "display_data"
    },
    {
     "data": {
      "text/html": [
       "<pre>| Initial | 0us          | 1.25467           | 1.12012               |             |</pre>"
      ],
      "text/plain": [
       "| Initial | 0us          | 1.25467           | 1.12012               |             |"
      ]
     },
     "metadata": {},
     "output_type": "display_data"
    },
    {
     "data": {
      "text/html": [
       "<pre>+---------+--------------+-------------------+-----------------------+-------------+</pre>"
      ],
      "text/plain": [
       "+---------+--------------+-------------------+-----------------------+-------------+"
      ]
     },
     "metadata": {},
     "output_type": "display_data"
    },
    {
     "data": {
      "text/html": [
       "<pre>| 1       | 64.003ms     | DIVERGED          | DIVERGED              | 0.246641    |</pre>"
      ],
      "text/plain": [
       "| 1       | 64.003ms     | DIVERGED          | DIVERGED              | 0.246641    |"
      ]
     },
     "metadata": {},
     "output_type": "display_data"
    },
    {
     "data": {
      "text/html": [
       "<pre>| RESET   | 97.005ms     | 1.25467           | 1.12012               |             |</pre>"
      ],
      "text/plain": [
       "| RESET   | 97.005ms     | 1.25467           | 1.12012               |             |"
      ]
     },
     "metadata": {},
     "output_type": "display_data"
    },
    {
     "data": {
      "text/html": [
       "<pre>| 1       | 208.012ms    | DIVERGED          | DIVERGED              | 0.123321    |</pre>"
      ],
      "text/plain": [
       "| 1       | 208.012ms    | DIVERGED          | DIVERGED              | 0.123321    |"
      ]
     },
     "metadata": {},
     "output_type": "display_data"
    },
    {
     "data": {
      "text/html": [
       "<pre>| RESET   | 219.012ms    | 1.25467           | 1.12012               |             |</pre>"
      ],
      "text/plain": [
       "| RESET   | 219.012ms    | 1.25467           | 1.12012               |             |"
      ]
     },
     "metadata": {},
     "output_type": "display_data"
    },
    {
     "data": {
      "text/html": [
       "<pre>| 1       | 349.02ms     | 0.997436          | 0.998715              | 0.0616603   |</pre>"
      ],
      "text/plain": [
       "| 1       | 349.02ms     | 0.997436          | 0.998715              | 0.0616603   |"
      ]
     },
     "metadata": {},
     "output_type": "display_data"
    },
    {
     "data": {
      "text/html": [
       "<pre>| 2       | 384.022ms    | 0.902561          | 0.950028              | 0.0366634   |</pre>"
      ],
      "text/plain": [
       "| 2       | 384.022ms    | 0.902561          | 0.950028              | 0.0366634   |"
      ]
     },
     "metadata": {},
     "output_type": "display_data"
    },
    {
     "data": {
      "text/html": [
       "<pre>| 3       | 528.03ms     | 0.873545          | 0.934584              | 0.0270498   |</pre>"
      ],
      "text/plain": [
       "| 3       | 528.03ms     | 0.873545          | 0.934584              | 0.0270498   |"
      ]
     },
     "metadata": {},
     "output_type": "display_data"
    },
    {
     "data": {
      "text/html": [
       "<pre>| 4       | 653.037ms    | 0.858822          | 0.926315              | 0.0218002   |</pre>"
      ],
      "text/plain": [
       "| 4       | 653.037ms    | 0.858822          | 0.926315              | 0.0218002   |"
      ]
     },
     "metadata": {},
     "output_type": "display_data"
    },
    {
     "data": {
      "text/html": [
       "<pre>| 5       | 838.048ms    | 0.845158          | 0.917348              | 0.0184407   |</pre>"
      ],
      "text/plain": [
       "| 5       | 838.048ms    | 0.845158          | 0.917348              | 0.0184407   |"
      ]
     },
     "metadata": {},
     "output_type": "display_data"
    },
    {
     "data": {
      "text/html": [
       "<pre>| 6       | 894.051ms    | 0.828122          | 0.904816              | 0.0160839   |</pre>"
      ],
      "text/plain": [
       "| 6       | 894.051ms    | 0.828122          | 0.904816              | 0.0160839   |"
      ]
     },
     "metadata": {},
     "output_type": "display_data"
    },
    {
     "data": {
      "text/html": [
       "<pre>| 8       | 1.05s        | 0.800986          | 0.883746              | 0.0129625   |</pre>"
      ],
      "text/plain": [
       "| 8       | 1.05s        | 0.800986          | 0.883746              | 0.0129625   |"
      ]
     },
     "metadata": {},
     "output_type": "display_data"
    },
    {
     "data": {
      "text/html": [
       "<pre>| 11      | 1.27s        | 0.779502          | 0.865598              | 0.0102085   |</pre>"
      ],
      "text/plain": [
       "| 11      | 1.27s        | 0.779502          | 0.865598              | 0.0102085   |"
      ]
     },
     "metadata": {},
     "output_type": "display_data"
    },
    {
     "data": {
      "text/html": [
       "<pre>| 18      | 1.78s        | 0.735473          | 0.824371              | 0.00705588  |</pre>"
      ],
      "text/plain": [
       "| 18      | 1.78s        | 0.735473          | 0.824371              | 0.00705588  |"
      ]
     },
     "metadata": {},
     "output_type": "display_data"
    },
    {
     "data": {
      "text/html": [
       "<pre>| 28      | 2.58s        | 0.681935          | 0.764021              | 0.00506567  |</pre>"
      ],
      "text/plain": [
       "| 28      | 2.58s        | 0.681935          | 0.764021              | 0.00506567  |"
      ]
     },
     "metadata": {},
     "output_type": "display_data"
    },
    {
     "data": {
      "text/html": [
       "<pre>| 38      | 3.11s        | 0.655942          | 0.72437               | 0.00402873  |</pre>"
      ],
      "text/plain": [
       "| 38      | 3.11s        | 0.655942          | 0.72437               | 0.00402873  |"
      ]
     },
     "metadata": {},
     "output_type": "display_data"
    },
    {
     "data": {
      "text/html": [
       "<pre>| 48      | 3.87s        | 0.646832          | 0.704105              | 0.00338123  |</pre>"
      ],
      "text/plain": [
       "| 48      | 3.87s        | 0.646832          | 0.704105              | 0.00338123  |"
      ]
     },
     "metadata": {},
     "output_type": "display_data"
    },
    {
     "data": {
      "text/html": [
       "<pre>+---------+--------------+-------------------+-----------------------+-------------+</pre>"
      ],
      "text/plain": [
       "+---------+--------------+-------------------+-----------------------+-------------+"
      ]
     },
     "metadata": {},
     "output_type": "display_data"
    },
    {
     "data": {
      "text/html": [
       "<pre>Optimization Complete: Maximum number of passes through the data reached.</pre>"
      ],
      "text/plain": [
       "Optimization Complete: Maximum number of passes through the data reached."
      ]
     },
     "metadata": {},
     "output_type": "display_data"
    },
    {
     "data": {
      "text/html": [
       "<pre>Computing final objective value and training RMSE.</pre>"
      ],
      "text/plain": [
       "Computing final objective value and training RMSE."
      ]
     },
     "metadata": {},
     "output_type": "display_data"
    },
    {
     "data": {
      "text/html": [
       "<pre>       Final objective value: 0.633984</pre>"
      ],
      "text/plain": [
       "       Final objective value: 0.633984"
      ]
     },
     "metadata": {},
     "output_type": "display_data"
    },
    {
     "data": {
      "text/html": [
       "<pre>       Final training RMSE: 0.692809</pre>"
      ],
      "text/plain": [
       "       Final training RMSE: 0.692809"
      ]
     },
     "metadata": {},
     "output_type": "display_data"
    },
    {
     "data": {
      "text/html": [
       "<pre>Recsys training: model = factorization_recommender</pre>"
      ],
      "text/plain": [
       "Recsys training: model = factorization_recommender"
      ]
     },
     "metadata": {},
     "output_type": "display_data"
    },
    {
     "data": {
      "text/html": [
       "<pre>Preparing data set.</pre>"
      ],
      "text/plain": [
       "Preparing data set."
      ]
     },
     "metadata": {},
     "output_type": "display_data"
    },
    {
     "data": {
      "text/html": [
       "<pre>    Data has 46642 observations with 568 users and 1583 items.</pre>"
      ],
      "text/plain": [
       "    Data has 46642 observations with 568 users and 1583 items."
      ]
     },
     "metadata": {},
     "output_type": "display_data"
    },
    {
     "data": {
      "text/html": [
       "<pre>    Data prepared in: 0.220013s</pre>"
      ],
      "text/plain": [
       "    Data prepared in: 0.220013s"
      ]
     },
     "metadata": {},
     "output_type": "display_data"
    },
    {
     "data": {
      "text/html": [
       "<pre>Training factorization_recommender for recommendations.</pre>"
      ],
      "text/plain": [
       "Training factorization_recommender for recommendations."
      ]
     },
     "metadata": {},
     "output_type": "display_data"
    },
    {
     "data": {
      "text/html": [
       "<pre>+--------------------------------+--------------------------------------------------+----------+</pre>"
      ],
      "text/plain": [
       "+--------------------------------+--------------------------------------------------+----------+"
      ]
     },
     "metadata": {},
     "output_type": "display_data"
    },
    {
     "data": {
      "text/html": [
       "<pre>| Parameter                      | Description                                      | Value    |</pre>"
      ],
      "text/plain": [
       "| Parameter                      | Description                                      | Value    |"
      ]
     },
     "metadata": {},
     "output_type": "display_data"
    },
    {
     "data": {
      "text/html": [
       "<pre>+--------------------------------+--------------------------------------------------+----------+</pre>"
      ],
      "text/plain": [
       "+--------------------------------+--------------------------------------------------+----------+"
      ]
     },
     "metadata": {},
     "output_type": "display_data"
    },
    {
     "data": {
      "text/html": [
       "<pre>| num_factors                    | Factor Dimension                                 | 8        |</pre>"
      ],
      "text/plain": [
       "| num_factors                    | Factor Dimension                                 | 8        |"
      ]
     },
     "metadata": {},
     "output_type": "display_data"
    },
    {
     "data": {
      "text/html": [
       "<pre>| regularization                 | L2 Regularization on Factors                     | 0.001    |</pre>"
      ],
      "text/plain": [
       "| regularization                 | L2 Regularization on Factors                     | 0.001    |"
      ]
     },
     "metadata": {},
     "output_type": "display_data"
    },
    {
     "data": {
      "text/html": [
       "<pre>| solver                         | Solver used for training                         | sgd      |</pre>"
      ],
      "text/plain": [
       "| solver                         | Solver used for training                         | sgd      |"
      ]
     },
     "metadata": {},
     "output_type": "display_data"
    },
    {
     "data": {
      "text/html": [
       "<pre>| linear_regularization          | L2 Regularization on Linear Coefficients         | 1e-010   |</pre>"
      ],
      "text/plain": [
       "| linear_regularization          | L2 Regularization on Linear Coefficients         | 1e-010   |"
      ]
     },
     "metadata": {},
     "output_type": "display_data"
    },
    {
     "data": {
      "text/html": [
       "<pre>| max_iterations                 | Maximum Number of Iterations                     | 50       |</pre>"
      ],
      "text/plain": [
       "| max_iterations                 | Maximum Number of Iterations                     | 50       |"
      ]
     },
     "metadata": {},
     "output_type": "display_data"
    },
    {
     "data": {
      "text/html": [
       "<pre>+--------------------------------+--------------------------------------------------+----------+</pre>"
      ],
      "text/plain": [
       "+--------------------------------+--------------------------------------------------+----------+"
      ]
     },
     "metadata": {},
     "output_type": "display_data"
    },
    {
     "data": {
      "text/html": [
       "<pre>  Optimizing model using SGD; tuning step size.</pre>"
      ],
      "text/plain": [
       "  Optimizing model using SGD; tuning step size."
      ]
     },
     "metadata": {},
     "output_type": "display_data"
    },
    {
     "data": {
      "text/html": [
       "<pre>  Using 10000 / 46642 points for tuning the step size.</pre>"
      ],
      "text/plain": [
       "  Using 10000 / 46642 points for tuning the step size."
      ]
     },
     "metadata": {},
     "output_type": "display_data"
    },
    {
     "data": {
      "text/html": [
       "<pre>+---------+-------------------+------------------------------------------+</pre>"
      ],
      "text/plain": [
       "+---------+-------------------+------------------------------------------+"
      ]
     },
     "metadata": {},
     "output_type": "display_data"
    },
    {
     "data": {
      "text/html": [
       "<pre>| Attempt | Initial Step Size | Estimated Objective Value                |</pre>"
      ],
      "text/plain": [
       "| Attempt | Initial Step Size | Estimated Objective Value                |"
      ]
     },
     "metadata": {},
     "output_type": "display_data"
    },
    {
     "data": {
      "text/html": [
       "<pre>+---------+-------------------+------------------------------------------+</pre>"
      ],
      "text/plain": [
       "+---------+-------------------+------------------------------------------+"
      ]
     },
     "metadata": {},
     "output_type": "display_data"
    },
    {
     "data": {
      "text/html": [
       "<pre>| 0       | 1.5785            | Not Viable                               |</pre>"
      ],
      "text/plain": [
       "| 0       | 1.5785            | Not Viable                               |"
      ]
     },
     "metadata": {},
     "output_type": "display_data"
    },
    {
     "data": {
      "text/html": [
       "<pre>| 1       | 0.394626          | Not Viable                               |</pre>"
      ],
      "text/plain": [
       "| 1       | 0.394626          | Not Viable                               |"
      ]
     },
     "metadata": {},
     "output_type": "display_data"
    },
    {
     "data": {
      "text/html": [
       "<pre>| 2       | 0.0986565         | 0.725896                                 |</pre>"
      ],
      "text/plain": [
       "| 2       | 0.0986565         | 0.725896                                 |"
      ]
     },
     "metadata": {},
     "output_type": "display_data"
    },
    {
     "data": {
      "text/html": [
       "<pre>| 3       | 0.0493282         | 0.750041                                 |</pre>"
      ],
      "text/plain": [
       "| 3       | 0.0493282         | 0.750041                                 |"
      ]
     },
     "metadata": {},
     "output_type": "display_data"
    },
    {
     "data": {
      "text/html": [
       "<pre>| 4       | 0.0246641         | 0.784735                                 |</pre>"
      ],
      "text/plain": [
       "| 4       | 0.0246641         | 0.784735                                 |"
      ]
     },
     "metadata": {},
     "output_type": "display_data"
    },
    {
     "data": {
      "text/html": [
       "<pre>| 5       | 0.0123321         | 0.833725                                 |</pre>"
      ],
      "text/plain": [
       "| 5       | 0.0123321         | 0.833725                                 |"
      ]
     },
     "metadata": {},
     "output_type": "display_data"
    },
    {
     "data": {
      "text/html": [
       "<pre>+---------+-------------------+------------------------------------------+</pre>"
      ],
      "text/plain": [
       "+---------+-------------------+------------------------------------------+"
      ]
     },
     "metadata": {},
     "output_type": "display_data"
    },
    {
     "data": {
      "text/html": [
       "<pre>| Final   | 0.0986565         | 0.725896                                 |</pre>"
      ],
      "text/plain": [
       "| Final   | 0.0986565         | 0.725896                                 |"
      ]
     },
     "metadata": {},
     "output_type": "display_data"
    },
    {
     "data": {
      "text/html": [
       "<pre>+---------+-------------------+------------------------------------------+</pre>"
      ],
      "text/plain": [
       "+---------+-------------------+------------------------------------------+"
      ]
     },
     "metadata": {},
     "output_type": "display_data"
    },
    {
     "data": {
      "text/html": [
       "<pre>Starting Optimization.</pre>"
      ],
      "text/plain": [
       "Starting Optimization."
      ]
     },
     "metadata": {},
     "output_type": "display_data"
    },
    {
     "data": {
      "text/html": [
       "<pre>+---------+--------------+-------------------+-----------------------+-------------+</pre>"
      ],
      "text/plain": [
       "+---------+--------------+-------------------+-----------------------+-------------+"
      ]
     },
     "metadata": {},
     "output_type": "display_data"
    },
    {
     "data": {
      "text/html": [
       "<pre>| Iter.   | Elapsed Time | Approx. Objective | Approx. Training RMSE | Step Size   |</pre>"
      ],
      "text/plain": [
       "| Iter.   | Elapsed Time | Approx. Objective | Approx. Training RMSE | Step Size   |"
      ]
     },
     "metadata": {},
     "output_type": "display_data"
    },
    {
     "data": {
      "text/html": [
       "<pre>+---------+--------------+-------------------+-----------------------+-------------+</pre>"
      ],
      "text/plain": [
       "+---------+--------------+-------------------+-----------------------+-------------+"
      ]
     },
     "metadata": {},
     "output_type": "display_data"
    },
    {
     "data": {
      "text/html": [
       "<pre>| Initial | 0us          | 1.25466           | 1.12012               |             |</pre>"
      ],
      "text/plain": [
       "| Initial | 0us          | 1.25466           | 1.12012               |             |"
      ]
     },
     "metadata": {},
     "output_type": "display_data"
    },
    {
     "data": {
      "text/html": [
       "<pre>+---------+--------------+-------------------+-----------------------+-------------+</pre>"
      ],
      "text/plain": [
       "+---------+--------------+-------------------+-----------------------+-------------+"
      ]
     },
     "metadata": {},
     "output_type": "display_data"
    },
    {
     "data": {
      "text/html": [
       "<pre>| 1       | 202.012ms    | DIVERGED          | DIVERGED              | 0.0986565   |</pre>"
      ],
      "text/plain": [
       "| 1       | 202.012ms    | DIVERGED          | DIVERGED              | 0.0986565   |"
      ]
     },
     "metadata": {},
     "output_type": "display_data"
    },
    {
     "data": {
      "text/html": [
       "<pre>| RESET   | 222.013ms    | 1.25468           | 1.12013               |             |</pre>"
      ],
      "text/plain": [
       "| RESET   | 222.013ms    | 1.25468           | 1.12013               |             |"
      ]
     },
     "metadata": {},
     "output_type": "display_data"
    },
    {
     "data": {
      "text/html": [
       "<pre>| 1       | 438.025ms    | DIVERGED          | DIVERGED              | 0.0493282   |</pre>"
      ],
      "text/plain": [
       "| 1       | 438.025ms    | DIVERGED          | DIVERGED              | 0.0493282   |"
      ]
     },
     "metadata": {},
     "output_type": "display_data"
    },
    {
     "data": {
      "text/html": [
       "<pre>| RESET   | 455.026ms    | 1.2547            | 1.12013               |             |</pre>"
      ],
      "text/plain": [
       "| RESET   | 455.026ms    | 1.2547            | 1.12013               |             |"
      ]
     },
     "metadata": {},
     "output_type": "display_data"
    },
    {
     "data": {
      "text/html": [
       "<pre>| 1       | 546.032ms    | 0.967008          | 0.983364              | 0.0246641   |</pre>"
      ],
      "text/plain": [
       "| 1       | 546.032ms    | 0.967008          | 0.983364              | 0.0246641   |"
      ]
     },
     "metadata": {},
     "output_type": "display_data"
    },
    {
     "data": {
      "text/html": [
       "<pre>| 2       | 666.038ms    | 0.867267          | 0.931271              | 0.0114696   |</pre>"
      ],
      "text/plain": [
       "| 2       | 666.038ms    | 0.867267          | 0.931271              | 0.0114696   |"
      ]
     },
     "metadata": {},
     "output_type": "display_data"
    },
    {
     "data": {
      "text/html": [
       "<pre>| 3       | 792.046ms    | 0.846007          | 0.919786              | 0.00747224  |</pre>"
      ],
      "text/plain": [
       "| 3       | 792.046ms    | 0.846007          | 0.919786              | 0.00747224  |"
      ]
     },
     "metadata": {},
     "output_type": "display_data"
    },
    {
     "data": {
      "text/html": [
       "<pre>| 4       | 912.053ms    | 0.836515          | 0.914612              | 0.00554106  |</pre>"
      ],
      "text/plain": [
       "| 4       | 912.053ms    | 0.836515          | 0.914612              | 0.00554106  |"
      ]
     },
     "metadata": {},
     "output_type": "display_data"
    },
    {
     "data": {
      "text/html": [
       "<pre>| 5       | 1.03s        | 0.830758          | 0.911459              | 0.0044031   |</pre>"
      ],
      "text/plain": [
       "| 5       | 1.03s        | 0.830758          | 0.911459              | 0.0044031   |"
      ]
     },
     "metadata": {},
     "output_type": "display_data"
    },
    {
     "data": {
      "text/html": [
       "<pre>| 6       | 1.16s        | 0.827231          | 0.909522              | 0.0036529   |</pre>"
      ],
      "text/plain": [
       "| 6       | 1.16s        | 0.827231          | 0.909522              | 0.0036529   |"
      ]
     },
     "metadata": {},
     "output_type": "display_data"
    },
    {
     "data": {
      "text/html": [
       "<pre>| 8       | 1.33s        | 0.822575          | 0.906959              | 0.00272451  |</pre>"
      ],
      "text/plain": [
       "| 8       | 1.33s        | 0.822575          | 0.906959              | 0.00272451  |"
      ]
     },
     "metadata": {},
     "output_type": "display_data"
    },
    {
     "data": {
      "text/html": [
       "<pre>| 11      | 1.52s        | 0.818726          | 0.904835              | 0.00197252  |</pre>"
      ],
      "text/plain": [
       "| 11      | 1.52s        | 0.818726          | 0.904835              | 0.00197252  |"
      ]
     },
     "metadata": {},
     "output_type": "display_data"
    },
    {
     "data": {
      "text/html": [
       "<pre>| 18      | 1.85s        | 0.814451          | 0.902469              | 0.00119982  |</pre>"
      ],
      "text/plain": [
       "| 18      | 1.85s        | 0.814451          | 0.902469              | 0.00119982  |"
      ]
     },
     "metadata": {},
     "output_type": "display_data"
    },
    {
     "data": {
      "text/html": [
       "<pre>| 28      | 2.70s        | 0.811837          | 0.90102               | 0.000769303 |</pre>"
      ],
      "text/plain": [
       "| 28      | 2.70s        | 0.811837          | 0.90102               | 0.000769303 |"
      ]
     },
     "metadata": {},
     "output_type": "display_data"
    },
    {
     "data": {
      "text/html": [
       "<pre>| 38      | 3.33s        | 0.810464          | 0.900258              | 0.000566156 |</pre>"
      ],
      "text/plain": [
       "| 38      | 3.33s        | 0.810464          | 0.900258              | 0.000566156 |"
      ]
     },
     "metadata": {},
     "output_type": "display_data"
    },
    {
     "data": {
      "text/html": [
       "<pre>| 48      | 3.93s        | 0.809592          | 0.899773              | 0.000447884 |</pre>"
      ],
      "text/plain": [
       "| 48      | 3.93s        | 0.809592          | 0.899773              | 0.000447884 |"
      ]
     },
     "metadata": {},
     "output_type": "display_data"
    },
    {
     "data": {
      "text/html": [
       "<pre>+---------+--------------+-------------------+-----------------------+-------------+</pre>"
      ],
      "text/plain": [
       "+---------+--------------+-------------------+-----------------------+-------------+"
      ]
     },
     "metadata": {},
     "output_type": "display_data"
    },
    {
     "data": {
      "text/html": [
       "<pre>Optimization Complete: Maximum number of passes through the data reached.</pre>"
      ],
      "text/plain": [
       "Optimization Complete: Maximum number of passes through the data reached."
      ]
     },
     "metadata": {},
     "output_type": "display_data"
    },
    {
     "data": {
      "text/html": [
       "<pre>Computing final objective value and training RMSE.</pre>"
      ],
      "text/plain": [
       "Computing final objective value and training RMSE."
      ]
     },
     "metadata": {},
     "output_type": "display_data"
    },
    {
     "data": {
      "text/html": [
       "<pre>       Final objective value: 0.808063</pre>"
      ],
      "text/plain": [
       "       Final objective value: 0.808063"
      ]
     },
     "metadata": {},
     "output_type": "display_data"
    },
    {
     "data": {
      "text/html": [
       "<pre>       Final training RMSE: 0.898923</pre>"
      ],
      "text/plain": [
       "       Final training RMSE: 0.898923"
      ]
     },
     "metadata": {},
     "output_type": "display_data"
    },
    {
     "data": {
      "text/html": [
       "<pre>Recsys training: model = factorization_recommender</pre>"
      ],
      "text/plain": [
       "Recsys training: model = factorization_recommender"
      ]
     },
     "metadata": {},
     "output_type": "display_data"
    },
    {
     "data": {
      "text/html": [
       "<pre>Preparing data set.</pre>"
      ],
      "text/plain": [
       "Preparing data set."
      ]
     },
     "metadata": {},
     "output_type": "display_data"
    },
    {
     "data": {
      "text/html": [
       "<pre>    Data has 46642 observations with 568 users and 1583 items.</pre>"
      ],
      "text/plain": [
       "    Data has 46642 observations with 568 users and 1583 items."
      ]
     },
     "metadata": {},
     "output_type": "display_data"
    },
    {
     "data": {
      "text/html": [
       "<pre>    Data prepared in: 0.143008s</pre>"
      ],
      "text/plain": [
       "    Data prepared in: 0.143008s"
      ]
     },
     "metadata": {},
     "output_type": "display_data"
    },
    {
     "data": {
      "text/html": [
       "<pre>Training factorization_recommender for recommendations.</pre>"
      ],
      "text/plain": [
       "Training factorization_recommender for recommendations."
      ]
     },
     "metadata": {},
     "output_type": "display_data"
    },
    {
     "data": {
      "text/html": [
       "<pre>+--------------------------------+--------------------------------------------------+----------+</pre>"
      ],
      "text/plain": [
       "+--------------------------------+--------------------------------------------------+----------+"
      ]
     },
     "metadata": {},
     "output_type": "display_data"
    },
    {
     "data": {
      "text/html": [
       "<pre>| Parameter                      | Description                                      | Value    |</pre>"
      ],
      "text/plain": [
       "| Parameter                      | Description                                      | Value    |"
      ]
     },
     "metadata": {},
     "output_type": "display_data"
    },
    {
     "data": {
      "text/html": [
       "<pre>+--------------------------------+--------------------------------------------------+----------+</pre>"
      ],
      "text/plain": [
       "+--------------------------------+--------------------------------------------------+----------+"
      ]
     },
     "metadata": {},
     "output_type": "display_data"
    },
    {
     "data": {
      "text/html": [
       "<pre>| num_factors                    | Factor Dimension                                 | 8        |</pre>"
      ],
      "text/plain": [
       "| num_factors                    | Factor Dimension                                 | 8        |"
      ]
     },
     "metadata": {},
     "output_type": "display_data"
    },
    {
     "data": {
      "text/html": [
       "<pre>| regularization                 | L2 Regularization on Factors                     | 0.01     |</pre>"
      ],
      "text/plain": [
       "| regularization                 | L2 Regularization on Factors                     | 0.01     |"
      ]
     },
     "metadata": {},
     "output_type": "display_data"
    },
    {
     "data": {
      "text/html": [
       "<pre>| solver                         | Solver used for training                         | sgd      |</pre>"
      ],
      "text/plain": [
       "| solver                         | Solver used for training                         | sgd      |"
      ]
     },
     "metadata": {},
     "output_type": "display_data"
    },
    {
     "data": {
      "text/html": [
       "<pre>| linear_regularization          | L2 Regularization on Linear Coefficients         | 1e-010   |</pre>"
      ],
      "text/plain": [
       "| linear_regularization          | L2 Regularization on Linear Coefficients         | 1e-010   |"
      ]
     },
     "metadata": {},
     "output_type": "display_data"
    },
    {
     "data": {
      "text/html": [
       "<pre>| max_iterations                 | Maximum Number of Iterations                     | 50       |</pre>"
      ],
      "text/plain": [
       "| max_iterations                 | Maximum Number of Iterations                     | 50       |"
      ]
     },
     "metadata": {},
     "output_type": "display_data"
    },
    {
     "data": {
      "text/html": [
       "<pre>+--------------------------------+--------------------------------------------------+----------+</pre>"
      ],
      "text/plain": [
       "+--------------------------------+--------------------------------------------------+----------+"
      ]
     },
     "metadata": {},
     "output_type": "display_data"
    },
    {
     "data": {
      "text/html": [
       "<pre>  Optimizing model using SGD; tuning step size.</pre>"
      ],
      "text/plain": [
       "  Optimizing model using SGD; tuning step size."
      ]
     },
     "metadata": {},
     "output_type": "display_data"
    },
    {
     "data": {
      "text/html": [
       "<pre>  Using 10000 / 46642 points for tuning the step size.</pre>"
      ],
      "text/plain": [
       "  Using 10000 / 46642 points for tuning the step size."
      ]
     },
     "metadata": {},
     "output_type": "display_data"
    },
    {
     "data": {
      "text/html": [
       "<pre>+---------+-------------------+------------------------------------------+</pre>"
      ],
      "text/plain": [
       "+---------+-------------------+------------------------------------------+"
      ]
     },
     "metadata": {},
     "output_type": "display_data"
    },
    {
     "data": {
      "text/html": [
       "<pre>| Attempt | Initial Step Size | Estimated Objective Value                |</pre>"
      ],
      "text/plain": [
       "| Attempt | Initial Step Size | Estimated Objective Value                |"
      ]
     },
     "metadata": {},
     "output_type": "display_data"
    },
    {
     "data": {
      "text/html": [
       "<pre>+---------+-------------------+------------------------------------------+</pre>"
      ],
      "text/plain": [
       "+---------+-------------------+------------------------------------------+"
      ]
     },
     "metadata": {},
     "output_type": "display_data"
    },
    {
     "data": {
      "text/html": [
       "<pre>| 0       | 0.15785           | Not Viable                               |</pre>"
      ],
      "text/plain": [
       "| 0       | 0.15785           | Not Viable                               |"
      ]
     },
     "metadata": {},
     "output_type": "display_data"
    },
    {
     "data": {
      "text/html": [
       "<pre>| 1       | 0.0394626         | Not Viable                               |</pre>"
      ],
      "text/plain": [
       "| 1       | 0.0394626         | Not Viable                               |"
      ]
     },
     "metadata": {},
     "output_type": "display_data"
    },
    {
     "data": {
      "text/html": [
       "<pre>| 2       | 0.00986565        | 0.948253                                 |</pre>"
      ],
      "text/plain": [
       "| 2       | 0.00986565        | 0.948253                                 |"
      ]
     },
     "metadata": {},
     "output_type": "display_data"
    },
    {
     "data": {
      "text/html": [
       "<pre>| 3       | 0.00493282        | 1.02087                                  |</pre>"
      ],
      "text/plain": [
       "| 3       | 0.00493282        | 1.02087                                  |"
      ]
     },
     "metadata": {},
     "output_type": "display_data"
    },
    {
     "data": {
      "text/html": [
       "<pre>| 4       | 0.00246641        | 1.08286                                  |</pre>"
      ],
      "text/plain": [
       "| 4       | 0.00246641        | 1.08286                                  |"
      ]
     },
     "metadata": {},
     "output_type": "display_data"
    },
    {
     "data": {
      "text/html": [
       "<pre>| 5       | 0.00123321        | 1.1383                                   |</pre>"
      ],
      "text/plain": [
       "| 5       | 0.00123321        | 1.1383                                   |"
      ]
     },
     "metadata": {},
     "output_type": "display_data"
    },
    {
     "data": {
      "text/html": [
       "<pre>+---------+-------------------+------------------------------------------+</pre>"
      ],
      "text/plain": [
       "+---------+-------------------+------------------------------------------+"
      ]
     },
     "metadata": {},
     "output_type": "display_data"
    },
    {
     "data": {
      "text/html": [
       "<pre>| Final   | 0.00986565        | 0.948253                                 |</pre>"
      ],
      "text/plain": [
       "| Final   | 0.00986565        | 0.948253                                 |"
      ]
     },
     "metadata": {},
     "output_type": "display_data"
    },
    {
     "data": {
      "text/html": [
       "<pre>+---------+-------------------+------------------------------------------+</pre>"
      ],
      "text/plain": [
       "+---------+-------------------+------------------------------------------+"
      ]
     },
     "metadata": {},
     "output_type": "display_data"
    },
    {
     "data": {
      "text/html": [
       "<pre>Starting Optimization.</pre>"
      ],
      "text/plain": [
       "Starting Optimization."
      ]
     },
     "metadata": {},
     "output_type": "display_data"
    },
    {
     "data": {
      "text/html": [
       "<pre>+---------+--------------+-------------------+-----------------------+-------------+</pre>"
      ],
      "text/plain": [
       "+---------+--------------+-------------------+-----------------------+-------------+"
      ]
     },
     "metadata": {},
     "output_type": "display_data"
    },
    {
     "data": {
      "text/html": [
       "<pre>| Iter.   | Elapsed Time | Approx. Objective | Approx. Training RMSE | Step Size   |</pre>"
      ],
      "text/plain": [
       "| Iter.   | Elapsed Time | Approx. Objective | Approx. Training RMSE | Step Size   |"
      ]
     },
     "metadata": {},
     "output_type": "display_data"
    },
    {
     "data": {
      "text/html": [
       "<pre>+---------+--------------+-------------------+-----------------------+-------------+</pre>"
      ],
      "text/plain": [
       "+---------+--------------+-------------------+-----------------------+-------------+"
      ]
     },
     "metadata": {},
     "output_type": "display_data"
    },
    {
     "data": {
      "text/html": [
       "<pre>| Initial | 0us          | 1.25466           | 1.12012               |             |</pre>"
      ],
      "text/plain": [
       "| Initial | 0us          | 1.25466           | 1.12012               |             |"
      ]
     },
     "metadata": {},
     "output_type": "display_data"
    },
    {
     "data": {
      "text/html": [
       "<pre>+---------+--------------+-------------------+-----------------------+-------------+</pre>"
      ],
      "text/plain": [
       "+---------+--------------+-------------------+-----------------------+-------------+"
      ]
     },
     "metadata": {},
     "output_type": "display_data"
    },
    {
     "data": {
      "text/html": [
       "<pre>| 1       | 109.006ms    | DIVERGED          | DIVERGED              | 0.00986565  |</pre>"
      ],
      "text/plain": [
       "| 1       | 109.006ms    | DIVERGED          | DIVERGED              | 0.00986565  |"
      ]
     },
     "metadata": {},
     "output_type": "display_data"
    },
    {
     "data": {
      "text/html": [
       "<pre>| RESET   | 123.007ms    | 1.25474           | 1.12015               |             |</pre>"
      ],
      "text/plain": [
       "| RESET   | 123.007ms    | 1.25474           | 1.12015               |             |"
      ]
     },
     "metadata": {},
     "output_type": "display_data"
    },
    {
     "data": {
      "text/html": [
       "<pre>| 1       | 163.009ms    | 1.06213           | 1.0306                | 0.00493282  |</pre>"
      ],
      "text/plain": [
       "| 1       | 163.009ms    | 1.06213           | 1.0306                | 0.00493282  |"
      ]
     },
     "metadata": {},
     "output_type": "display_data"
    },
    {
     "data": {
      "text/html": [
       "<pre>| 2       | 232.013ms    | 0.937377          | 0.968182              | 0.00149445  |</pre>"
      ],
      "text/plain": [
       "| 2       | 232.013ms    | 0.937377          | 0.968182              | 0.00149445  |"
      ]
     },
     "metadata": {},
     "output_type": "display_data"
    },
    {
     "data": {
      "text/html": [
       "<pre>| 3       | 409.023ms    | 0.918054          | 0.958151              | 0.00088062  |</pre>"
      ],
      "text/plain": [
       "| 3       | 409.023ms    | 0.918054          | 0.958151              | 0.00088062  |"
      ]
     },
     "metadata": {},
     "output_type": "display_data"
    },
    {
     "data": {
      "text/html": [
       "<pre>| 4       | 455.026ms    | 0.908539          | 0.953173              | 0.000624226 |</pre>"
      ],
      "text/plain": [
       "| 4       | 455.026ms    | 0.908539          | 0.953173              | 0.000624226 |"
      ]
     },
     "metadata": {},
     "output_type": "display_data"
    },
    {
     "data": {
      "text/html": [
       "<pre>| 5       | 506.029ms    | 0.90252           | 0.95001               | 0.000483465 |</pre>"
      ],
      "text/plain": [
       "| 5       | 506.029ms    | 0.90252           | 0.95001               | 0.000483465 |"
      ]
     },
     "metadata": {},
     "output_type": "display_data"
    },
    {
     "data": {
      "text/html": [
       "<pre>| 6       | 697.04ms     | 0.898226          | 0.947748              | 0.000394505 |</pre>"
      ],
      "text/plain": [
       "| 6       | 697.04ms     | 0.898226          | 0.947748              | 0.000394505 |"
      ]
     },
     "metadata": {},
     "output_type": "display_data"
    },
    {
     "data": {
      "text/html": [
       "<pre>| 11      | 999.057ms    | 0.886755          | 0.941677              | 0.000205469 |</pre>"
      ],
      "text/plain": [
       "| 11      | 999.057ms    | 0.886755          | 0.941677              | 0.000205469 |"
      ]
     },
     "metadata": {},
     "output_type": "display_data"
    },
    {
     "data": {
      "text/html": [
       "<pre>| 24      | 1.67s        | 0.875917          | 0.935904              |             |</pre>"
      ],
      "text/plain": [
       "| 24      | 1.67s        | 0.875917          | 0.935904              |             |"
      ]
     },
     "metadata": {},
     "output_type": "display_data"
    },
    {
     "data": {
      "text/html": [
       "<pre>| 49      | 2.71s        | 0.868299          | 0.931826              |             |</pre>"
      ],
      "text/plain": [
       "| 49      | 2.71s        | 0.868299          | 0.931826              |             |"
      ]
     },
     "metadata": {},
     "output_type": "display_data"
    },
    {
     "data": {
      "text/html": [
       "<pre>+---------+--------------+-------------------+-----------------------+-------------+</pre>"
      ],
      "text/plain": [
       "+---------+--------------+-------------------+-----------------------+-------------+"
      ]
     },
     "metadata": {},
     "output_type": "display_data"
    },
    {
     "data": {
      "text/html": [
       "<pre>Optimization Complete: Maximum number of passes through the data reached.</pre>"
      ],
      "text/plain": [
       "Optimization Complete: Maximum number of passes through the data reached."
      ]
     },
     "metadata": {},
     "output_type": "display_data"
    },
    {
     "data": {
      "text/html": [
       "<pre>Computing final objective value and training RMSE.</pre>"
      ],
      "text/plain": [
       "Computing final objective value and training RMSE."
      ]
     },
     "metadata": {},
     "output_type": "display_data"
    },
    {
     "data": {
      "text/html": [
       "<pre>       Final objective value: 0.867863</pre>"
      ],
      "text/plain": [
       "       Final objective value: 0.867863"
      ]
     },
     "metadata": {},
     "output_type": "display_data"
    },
    {
     "data": {
      "text/html": [
       "<pre>       Final training RMSE: 0.931591</pre>"
      ],
      "text/plain": [
       "       Final training RMSE: 0.931591"
      ]
     },
     "metadata": {},
     "output_type": "display_data"
    },
    {
     "data": {
      "text/html": [
       "<pre>Recsys training: model = factorization_recommender</pre>"
      ],
      "text/plain": [
       "Recsys training: model = factorization_recommender"
      ]
     },
     "metadata": {},
     "output_type": "display_data"
    },
    {
     "data": {
      "text/html": [
       "<pre>Preparing data set.</pre>"
      ],
      "text/plain": [
       "Preparing data set."
      ]
     },
     "metadata": {},
     "output_type": "display_data"
    },
    {
     "data": {
      "text/html": [
       "<pre>    Data has 46642 observations with 568 users and 1583 items.</pre>"
      ],
      "text/plain": [
       "    Data has 46642 observations with 568 users and 1583 items."
      ]
     },
     "metadata": {},
     "output_type": "display_data"
    },
    {
     "data": {
      "text/html": [
       "<pre>    Data prepared in: 0.208012s</pre>"
      ],
      "text/plain": [
       "    Data prepared in: 0.208012s"
      ]
     },
     "metadata": {},
     "output_type": "display_data"
    },
    {
     "data": {
      "text/html": [
       "<pre>Training factorization_recommender for recommendations.</pre>"
      ],
      "text/plain": [
       "Training factorization_recommender for recommendations."
      ]
     },
     "metadata": {},
     "output_type": "display_data"
    },
    {
     "data": {
      "text/html": [
       "<pre>+--------------------------------+--------------------------------------------------+----------+</pre>"
      ],
      "text/plain": [
       "+--------------------------------+--------------------------------------------------+----------+"
      ]
     },
     "metadata": {},
     "output_type": "display_data"
    },
    {
     "data": {
      "text/html": [
       "<pre>| Parameter                      | Description                                      | Value    |</pre>"
      ],
      "text/plain": [
       "| Parameter                      | Description                                      | Value    |"
      ]
     },
     "metadata": {},
     "output_type": "display_data"
    },
    {
     "data": {
      "text/html": [
       "<pre>+--------------------------------+--------------------------------------------------+----------+</pre>"
      ],
      "text/plain": [
       "+--------------------------------+--------------------------------------------------+----------+"
      ]
     },
     "metadata": {},
     "output_type": "display_data"
    },
    {
     "data": {
      "text/html": [
       "<pre>| num_factors                    | Factor Dimension                                 | 8        |</pre>"
      ],
      "text/plain": [
       "| num_factors                    | Factor Dimension                                 | 8        |"
      ]
     },
     "metadata": {},
     "output_type": "display_data"
    },
    {
     "data": {
      "text/html": [
       "<pre>| regularization                 | L2 Regularization on Factors                     | 0.1      |</pre>"
      ],
      "text/plain": [
       "| regularization                 | L2 Regularization on Factors                     | 0.1      |"
      ]
     },
     "metadata": {},
     "output_type": "display_data"
    },
    {
     "data": {
      "text/html": [
       "<pre>| solver                         | Solver used for training                         | sgd      |</pre>"
      ],
      "text/plain": [
       "| solver                         | Solver used for training                         | sgd      |"
      ]
     },
     "metadata": {},
     "output_type": "display_data"
    },
    {
     "data": {
      "text/html": [
       "<pre>| linear_regularization          | L2 Regularization on Linear Coefficients         | 1e-010   |</pre>"
      ],
      "text/plain": [
       "| linear_regularization          | L2 Regularization on Linear Coefficients         | 1e-010   |"
      ]
     },
     "metadata": {},
     "output_type": "display_data"
    },
    {
     "data": {
      "text/html": [
       "<pre>| max_iterations                 | Maximum Number of Iterations                     | 50       |</pre>"
      ],
      "text/plain": [
       "| max_iterations                 | Maximum Number of Iterations                     | 50       |"
      ]
     },
     "metadata": {},
     "output_type": "display_data"
    },
    {
     "data": {
      "text/html": [
       "<pre>+--------------------------------+--------------------------------------------------+----------+</pre>"
      ],
      "text/plain": [
       "+--------------------------------+--------------------------------------------------+----------+"
      ]
     },
     "metadata": {},
     "output_type": "display_data"
    },
    {
     "data": {
      "text/html": [
       "<pre>  Optimizing model using SGD; tuning step size.</pre>"
      ],
      "text/plain": [
       "  Optimizing model using SGD; tuning step size."
      ]
     },
     "metadata": {},
     "output_type": "display_data"
    },
    {
     "data": {
      "text/html": [
       "<pre>  Using 10000 / 46642 points for tuning the step size.</pre>"
      ],
      "text/plain": [
       "  Using 10000 / 46642 points for tuning the step size."
      ]
     },
     "metadata": {},
     "output_type": "display_data"
    },
    {
     "data": {
      "text/html": [
       "<pre>+---------+-------------------+------------------------------------------+</pre>"
      ],
      "text/plain": [
       "+---------+-------------------+------------------------------------------+"
      ]
     },
     "metadata": {},
     "output_type": "display_data"
    },
    {
     "data": {
      "text/html": [
       "<pre>| Attempt | Initial Step Size | Estimated Objective Value                |</pre>"
      ],
      "text/plain": [
       "| Attempt | Initial Step Size | Estimated Objective Value                |"
      ]
     },
     "metadata": {},
     "output_type": "display_data"
    },
    {
     "data": {
      "text/html": [
       "<pre>+---------+-------------------+------------------------------------------+</pre>"
      ],
      "text/plain": [
       "+---------+-------------------+------------------------------------------+"
      ]
     },
     "metadata": {},
     "output_type": "display_data"
    },
    {
     "data": {
      "text/html": [
       "<pre>| 0       | 0.015785          | Not Viable                               |</pre>"
      ],
      "text/plain": [
       "| 0       | 0.015785          | Not Viable                               |"
      ]
     },
     "metadata": {},
     "output_type": "display_data"
    },
    {
     "data": {
      "text/html": [
       "<pre>| 1       | 0.00394626        | 1.10693                                  |</pre>"
      ],
      "text/plain": [
       "| 1       | 0.00394626        | 1.10693                                  |"
      ]
     },
     "metadata": {},
     "output_type": "display_data"
    },
    {
     "data": {
      "text/html": [
       "<pre>| 2       | 0.00197313        | 1.16848                                  |</pre>"
      ],
      "text/plain": [
       "| 2       | 0.00197313        | 1.16848                                  |"
      ]
     },
     "metadata": {},
     "output_type": "display_data"
    },
    {
     "data": {
      "text/html": [
       "<pre>| 3       | 0.000986565       | 1.20692                                  |</pre>"
      ],
      "text/plain": [
       "| 3       | 0.000986565       | 1.20692                                  |"
      ]
     },
     "metadata": {},
     "output_type": "display_data"
    },
    {
     "data": {
      "text/html": [
       "<pre>| 4       | 0.000493282       | 1.22974                                  |</pre>"
      ],
      "text/plain": [
       "| 4       | 0.000493282       | 1.22974                                  |"
      ]
     },
     "metadata": {},
     "output_type": "display_data"
    },
    {
     "data": {
      "text/html": [
       "<pre>+---------+-------------------+------------------------------------------+</pre>"
      ],
      "text/plain": [
       "+---------+-------------------+------------------------------------------+"
      ]
     },
     "metadata": {},
     "output_type": "display_data"
    },
    {
     "data": {
      "text/html": [
       "<pre>| Final   | 0.00394626        | 1.10693                                  |</pre>"
      ],
      "text/plain": [
       "| Final   | 0.00394626        | 1.10693                                  |"
      ]
     },
     "metadata": {},
     "output_type": "display_data"
    },
    {
     "data": {
      "text/html": [
       "<pre>+---------+-------------------+------------------------------------------+</pre>"
      ],
      "text/plain": [
       "+---------+-------------------+------------------------------------------+"
      ]
     },
     "metadata": {},
     "output_type": "display_data"
    },
    {
     "data": {
      "text/html": [
       "<pre>Starting Optimization.</pre>"
      ],
      "text/plain": [
       "Starting Optimization."
      ]
     },
     "metadata": {},
     "output_type": "display_data"
    },
    {
     "data": {
      "text/html": [
       "<pre>+---------+--------------+-------------------+-----------------------+-------------+</pre>"
      ],
      "text/plain": [
       "+---------+--------------+-------------------+-----------------------+-------------+"
      ]
     },
     "metadata": {},
     "output_type": "display_data"
    },
    {
     "data": {
      "text/html": [
       "<pre>| Iter.   | Elapsed Time | Approx. Objective | Approx. Training RMSE | Step Size   |</pre>"
      ],
      "text/plain": [
       "| Iter.   | Elapsed Time | Approx. Objective | Approx. Training RMSE | Step Size   |"
      ]
     },
     "metadata": {},
     "output_type": "display_data"
    },
    {
     "data": {
      "text/html": [
       "<pre>+---------+--------------+-------------------+-----------------------+-------------+</pre>"
      ],
      "text/plain": [
       "+---------+--------------+-------------------+-----------------------+-------------+"
      ]
     },
     "metadata": {},
     "output_type": "display_data"
    },
    {
     "data": {
      "text/html": [
       "<pre>| Initial | 0us          | 1.25467           | 1.12012               |             |</pre>"
      ],
      "text/plain": [
       "| Initial | 0us          | 1.25467           | 1.12012               |             |"
      ]
     },
     "metadata": {},
     "output_type": "display_data"
    },
    {
     "data": {
      "text/html": [
       "<pre>+---------+--------------+-------------------+-----------------------+-------------+</pre>"
      ],
      "text/plain": [
       "+---------+--------------+-------------------+-----------------------+-------------+"
      ]
     },
     "metadata": {},
     "output_type": "display_data"
    },
    {
     "data": {
      "text/html": [
       "<pre>| 1       | 110.006ms    | DIVERGED          | DIVERGED              | 0.00394626  |</pre>"
      ],
      "text/plain": [
       "| 1       | 110.006ms    | DIVERGED          | DIVERGED              | 0.00394626  |"
      ]
     },
     "metadata": {},
     "output_type": "display_data"
    },
    {
     "data": {
      "text/html": [
       "<pre>| RESET   | 123.007ms    | 1.2547            | 1.12013               |             |</pre>"
      ],
      "text/plain": [
       "| RESET   | 123.007ms    | 1.2547            | 1.12013               |             |"
      ]
     },
     "metadata": {},
     "output_type": "display_data"
    },
    {
     "data": {
      "text/html": [
       "<pre>| 1       | 178.01ms     | DIVERGED          | DIVERGED              | 0.00197313  |</pre>"
      ],
      "text/plain": [
       "| 1       | 178.01ms     | DIVERGED          | DIVERGED              | 0.00197313  |"
      ]
     },
     "metadata": {},
     "output_type": "display_data"
    },
    {
     "data": {
      "text/html": [
       "<pre>| RESET   | 193.011ms    | 1.2547            | 1.12013               |             |</pre>"
      ],
      "text/plain": [
       "| RESET   | 193.011ms    | 1.2547            | 1.12013               |             |"
      ]
     },
     "metadata": {},
     "output_type": "display_data"
    },
    {
     "data": {
      "text/html": [
       "<pre>| 1       | 248.014ms    | 1.18381           | 1.08803               | 0.000986565 |</pre>"
      ],
      "text/plain": [
       "| 1       | 248.014ms    | 1.18381           | 1.08803               | 0.000986565 |"
      ]
     },
     "metadata": {},
     "output_type": "display_data"
    },
    {
     "data": {
      "text/html": [
       "<pre>| 2       | 350.02ms     | 1.11168           | 1.05436               | 0.000176124 |</pre>"
      ],
      "text/plain": [
       "| 2       | 350.02ms     | 1.11168           | 1.05436               | 0.000176124 |"
      ]
     },
     "metadata": {},
     "output_type": "display_data"
    },
    {
     "data": {
      "text/html": [
       "<pre>| 3       | 391.022ms    | 1.0992            | 1.04843               |             |</pre>"
      ],
      "text/plain": [
       "| 3       | 391.022ms    | 1.0992            | 1.04843               |             |"
      ]
     },
     "metadata": {},
     "output_type": "display_data"
    },
    {
     "data": {
      "text/html": [
       "<pre>| 4       | 429.024ms    | 1.09226           | 1.04511               | 6.6639e-005 |</pre>"
      ],
      "text/plain": [
       "| 4       | 429.024ms    | 1.09226           | 1.04511               | 6.6639e-005 |"
      ]
     },
     "metadata": {},
     "output_type": "display_data"
    },
    {
     "data": {
      "text/html": [
       "<pre>| 5       | 464.026ms    | 1.08749           | 1.04283               |             |</pre>"
      ],
      "text/plain": [
       "| 5       | 464.026ms    | 1.08749           | 1.04283               |             |"
      ]
     },
     "metadata": {},
     "output_type": "display_data"
    },
    {
     "data": {
      "text/html": [
       "<pre>| 6       | 616.035ms    | 1.08387           | 1.04109               |             |</pre>"
      ],
      "text/plain": [
       "| 6       | 616.035ms    | 1.08387           | 1.04109               |             |"
      ]
     },
     "metadata": {},
     "output_type": "display_data"
    },
    {
     "data": {
      "text/html": [
       "<pre>| 11      | 978.055ms    | 1.07309           | 1.0359                |             |</pre>"
      ],
      "text/plain": [
       "| 11      | 978.055ms    | 1.07309           | 1.0359                |             |"
      ]
     },
     "metadata": {},
     "output_type": "display_data"
    },
    {
     "data": {
      "text/html": [
       "<pre>| 23      | 1.94s        | 1.06167           | 1.03037               |             |</pre>"
      ],
      "text/plain": [
       "| 23      | 1.94s        | 1.06167           | 1.03037               |             |"
      ]
     },
     "metadata": {},
     "output_type": "display_data"
    },
    {
     "data": {
      "text/html": [
       "<pre>| 48      | 3.28s        | 1.05148           | 1.02542               |             |</pre>"
      ],
      "text/plain": [
       "| 48      | 3.28s        | 1.05148           | 1.02542               |             |"
      ]
     },
     "metadata": {},
     "output_type": "display_data"
    },
    {
     "data": {
      "text/html": [
       "<pre>+---------+--------------+-------------------+-----------------------+-------------+</pre>"
      ],
      "text/plain": [
       "+---------+--------------+-------------------+-----------------------+-------------+"
      ]
     },
     "metadata": {},
     "output_type": "display_data"
    },
    {
     "data": {
      "text/html": [
       "<pre>Optimization Complete: Maximum number of passes through the data reached.</pre>"
      ],
      "text/plain": [
       "Optimization Complete: Maximum number of passes through the data reached."
      ]
     },
     "metadata": {},
     "output_type": "display_data"
    },
    {
     "data": {
      "text/html": [
       "<pre>Computing final objective value and training RMSE.</pre>"
      ],
      "text/plain": [
       "Computing final objective value and training RMSE."
      ]
     },
     "metadata": {},
     "output_type": "display_data"
    },
    {
     "data": {
      "text/html": [
       "<pre>       Final objective value: 1.0508</pre>"
      ],
      "text/plain": [
       "       Final objective value: 1.0508"
      ]
     },
     "metadata": {},
     "output_type": "display_data"
    },
    {
     "data": {
      "text/html": [
       "<pre>       Final training RMSE: 1.02508</pre>"
      ],
      "text/plain": [
       "       Final training RMSE: 1.02508"
      ]
     },
     "metadata": {},
     "output_type": "display_data"
    }
   ],
   "source": [
    "# We want to keep track of our best results as we go\n",
    "best_regularization_term = 0\n",
    "best_RMSE = np.inf\n",
    "for regularization_term in regularization_terms:\n",
    "    # Train with this reg term\n",
    "    factorization_recommender = gl.recommender.factorization_recommender.create(sf_train,\n",
    "                                                                                target='rating',\n",
    "                                                                                regularization=regularization_term)"
   ]
  },
  {
   "cell_type": "code",
   "execution_count": 18,
   "metadata": {
    "collapsed": false
   },
   "outputs": [
    {
     "name": "stdout",
     "output_type": "stream",
     "text": [
      "Best Regularization Term 0.1\n",
      "Best Validation RMSE Achieved 1.03376984179\n"
     ]
    }
   ],
   "source": [
    "# Evaluate on our validation set (NOT test set yet)\n",
    "evaluation = factorization_recommender.evaluate_rmse(sf_validate, 'rating')\n",
    "    # See if we found the best score yet\n",
    "if evaluation['rmse_overall'] < best_RMSE:\n",
    "    best_RMSE = evaluation['rmse_overall']\n",
    "    best_regularization_term = regularization_term\n",
    "\n",
    "print \"Best Regularization Term\", best_regularization_term\n",
    "print \"Best Validation RMSE Achieved\", best_RMSE"
   ]
  },
  {
   "cell_type": "code",
   "execution_count": 19,
   "metadata": {
    "collapsed": false
   },
   "outputs": [
    {
     "data": {
      "text/html": [
       "<pre>Recsys training: model = factorization_recommender</pre>"
      ],
      "text/plain": [
       "Recsys training: model = factorization_recommender"
      ]
     },
     "metadata": {},
     "output_type": "display_data"
    },
    {
     "data": {
      "text/html": [
       "<pre>Preparing data set.</pre>"
      ],
      "text/plain": [
       "Preparing data set."
      ]
     },
     "metadata": {},
     "output_type": "display_data"
    },
    {
     "data": {
      "text/html": [
       "<pre>    Data has 46642 observations with 568 users and 1583 items.</pre>"
      ],
      "text/plain": [
       "    Data has 46642 observations with 568 users and 1583 items."
      ]
     },
     "metadata": {},
     "output_type": "display_data"
    },
    {
     "data": {
      "text/html": [
       "<pre>    Data prepared in: 0.126007s</pre>"
      ],
      "text/plain": [
       "    Data prepared in: 0.126007s"
      ]
     },
     "metadata": {},
     "output_type": "display_data"
    },
    {
     "data": {
      "text/html": [
       "<pre>Training factorization_recommender for recommendations.</pre>"
      ],
      "text/plain": [
       "Training factorization_recommender for recommendations."
      ]
     },
     "metadata": {},
     "output_type": "display_data"
    },
    {
     "data": {
      "text/html": [
       "<pre>+--------------------------------+--------------------------------------------------+----------+</pre>"
      ],
      "text/plain": [
       "+--------------------------------+--------------------------------------------------+----------+"
      ]
     },
     "metadata": {},
     "output_type": "display_data"
    },
    {
     "data": {
      "text/html": [
       "<pre>| Parameter                      | Description                                      | Value    |</pre>"
      ],
      "text/plain": [
       "| Parameter                      | Description                                      | Value    |"
      ]
     },
     "metadata": {},
     "output_type": "display_data"
    },
    {
     "data": {
      "text/html": [
       "<pre>+--------------------------------+--------------------------------------------------+----------+</pre>"
      ],
      "text/plain": [
       "+--------------------------------+--------------------------------------------------+----------+"
      ]
     },
     "metadata": {},
     "output_type": "display_data"
    },
    {
     "data": {
      "text/html": [
       "<pre>| num_factors                    | Factor Dimension                                 | 8        |</pre>"
      ],
      "text/plain": [
       "| num_factors                    | Factor Dimension                                 | 8        |"
      ]
     },
     "metadata": {},
     "output_type": "display_data"
    },
    {
     "data": {
      "text/html": [
       "<pre>| regularization                 | L2 Regularization on Factors                     | 0.1      |</pre>"
      ],
      "text/plain": [
       "| regularization                 | L2 Regularization on Factors                     | 0.1      |"
      ]
     },
     "metadata": {},
     "output_type": "display_data"
    },
    {
     "data": {
      "text/html": [
       "<pre>| solver                         | Solver used for training                         | sgd      |</pre>"
      ],
      "text/plain": [
       "| solver                         | Solver used for training                         | sgd      |"
      ]
     },
     "metadata": {},
     "output_type": "display_data"
    },
    {
     "data": {
      "text/html": [
       "<pre>| linear_regularization          | L2 Regularization on Linear Coefficients         | 1e-010   |</pre>"
      ],
      "text/plain": [
       "| linear_regularization          | L2 Regularization on Linear Coefficients         | 1e-010   |"
      ]
     },
     "metadata": {},
     "output_type": "display_data"
    },
    {
     "data": {
      "text/html": [
       "<pre>| max_iterations                 | Maximum Number of Iterations                     | 50       |</pre>"
      ],
      "text/plain": [
       "| max_iterations                 | Maximum Number of Iterations                     | 50       |"
      ]
     },
     "metadata": {},
     "output_type": "display_data"
    },
    {
     "data": {
      "text/html": [
       "<pre>+--------------------------------+--------------------------------------------------+----------+</pre>"
      ],
      "text/plain": [
       "+--------------------------------+--------------------------------------------------+----------+"
      ]
     },
     "metadata": {},
     "output_type": "display_data"
    },
    {
     "data": {
      "text/html": [
       "<pre>  Optimizing model using SGD; tuning step size.</pre>"
      ],
      "text/plain": [
       "  Optimizing model using SGD; tuning step size."
      ]
     },
     "metadata": {},
     "output_type": "display_data"
    },
    {
     "data": {
      "text/html": [
       "<pre>  Using 10000 / 46642 points for tuning the step size.</pre>"
      ],
      "text/plain": [
       "  Using 10000 / 46642 points for tuning the step size."
      ]
     },
     "metadata": {},
     "output_type": "display_data"
    },
    {
     "data": {
      "text/html": [
       "<pre>+---------+-------------------+------------------------------------------+</pre>"
      ],
      "text/plain": [
       "+---------+-------------------+------------------------------------------+"
      ]
     },
     "metadata": {},
     "output_type": "display_data"
    },
    {
     "data": {
      "text/html": [
       "<pre>| Attempt | Initial Step Size | Estimated Objective Value                |</pre>"
      ],
      "text/plain": [
       "| Attempt | Initial Step Size | Estimated Objective Value                |"
      ]
     },
     "metadata": {},
     "output_type": "display_data"
    },
    {
     "data": {
      "text/html": [
       "<pre>+---------+-------------------+------------------------------------------+</pre>"
      ],
      "text/plain": [
       "+---------+-------------------+------------------------------------------+"
      ]
     },
     "metadata": {},
     "output_type": "display_data"
    },
    {
     "data": {
      "text/html": [
       "<pre>| 0       | 0.015785          | Not Viable                               |</pre>"
      ],
      "text/plain": [
       "| 0       | 0.015785          | Not Viable                               |"
      ]
     },
     "metadata": {},
     "output_type": "display_data"
    },
    {
     "data": {
      "text/html": [
       "<pre>| 1       | 0.00394626        | 1.10724                                  |</pre>"
      ],
      "text/plain": [
       "| 1       | 0.00394626        | 1.10724                                  |"
      ]
     },
     "metadata": {},
     "output_type": "display_data"
    },
    {
     "data": {
      "text/html": [
       "<pre>| 2       | 0.00197313        | 1.16856                                  |</pre>"
      ],
      "text/plain": [
       "| 2       | 0.00197313        | 1.16856                                  |"
      ]
     },
     "metadata": {},
     "output_type": "display_data"
    },
    {
     "data": {
      "text/html": [
       "<pre>| 3       | 0.000986565       | 1.20681                                  |</pre>"
      ],
      "text/plain": [
       "| 3       | 0.000986565       | 1.20681                                  |"
      ]
     },
     "metadata": {},
     "output_type": "display_data"
    },
    {
     "data": {
      "text/html": [
       "<pre>| 4       | 0.000493282       | 1.22964                                  |</pre>"
      ],
      "text/plain": [
       "| 4       | 0.000493282       | 1.22964                                  |"
      ]
     },
     "metadata": {},
     "output_type": "display_data"
    },
    {
     "data": {
      "text/html": [
       "<pre>+---------+-------------------+------------------------------------------+</pre>"
      ],
      "text/plain": [
       "+---------+-------------------+------------------------------------------+"
      ]
     },
     "metadata": {},
     "output_type": "display_data"
    },
    {
     "data": {
      "text/html": [
       "<pre>| Final   | 0.00394626        | 1.10724                                  |</pre>"
      ],
      "text/plain": [
       "| Final   | 0.00394626        | 1.10724                                  |"
      ]
     },
     "metadata": {},
     "output_type": "display_data"
    },
    {
     "data": {
      "text/html": [
       "<pre>+---------+-------------------+------------------------------------------+</pre>"
      ],
      "text/plain": [
       "+---------+-------------------+------------------------------------------+"
      ]
     },
     "metadata": {},
     "output_type": "display_data"
    },
    {
     "data": {
      "text/html": [
       "<pre>Starting Optimization.</pre>"
      ],
      "text/plain": [
       "Starting Optimization."
      ]
     },
     "metadata": {},
     "output_type": "display_data"
    },
    {
     "data": {
      "text/html": [
       "<pre>+---------+--------------+-------------------+-----------------------+-------------+</pre>"
      ],
      "text/plain": [
       "+---------+--------------+-------------------+-----------------------+-------------+"
      ]
     },
     "metadata": {},
     "output_type": "display_data"
    },
    {
     "data": {
      "text/html": [
       "<pre>| Iter.   | Elapsed Time | Approx. Objective | Approx. Training RMSE | Step Size   |</pre>"
      ],
      "text/plain": [
       "| Iter.   | Elapsed Time | Approx. Objective | Approx. Training RMSE | Step Size   |"
      ]
     },
     "metadata": {},
     "output_type": "display_data"
    },
    {
     "data": {
      "text/html": [
       "<pre>+---------+--------------+-------------------+-----------------------+-------------+</pre>"
      ],
      "text/plain": [
       "+---------+--------------+-------------------+-----------------------+-------------+"
      ]
     },
     "metadata": {},
     "output_type": "display_data"
    },
    {
     "data": {
      "text/html": [
       "<pre>| Initial | 0us          | 1.25467           | 1.12012               |             |</pre>"
      ],
      "text/plain": [
       "| Initial | 0us          | 1.25467           | 1.12012               |             |"
      ]
     },
     "metadata": {},
     "output_type": "display_data"
    },
    {
     "data": {
      "text/html": [
       "<pre>+---------+--------------+-------------------+-----------------------+-------------+</pre>"
      ],
      "text/plain": [
       "+---------+--------------+-------------------+-----------------------+-------------+"
      ]
     },
     "metadata": {},
     "output_type": "display_data"
    },
    {
     "data": {
      "text/html": [
       "<pre>| 1       | 81.005ms     | DIVERGED          | DIVERGED              | 0.00394626  |</pre>"
      ],
      "text/plain": [
       "| 1       | 81.005ms     | DIVERGED          | DIVERGED              | 0.00394626  |"
      ]
     },
     "metadata": {},
     "output_type": "display_data"
    },
    {
     "data": {
      "text/html": [
       "<pre>| RESET   | 94.005ms     | 1.25468           | 1.12012               |             |</pre>"
      ],
      "text/plain": [
       "| RESET   | 94.005ms     | 1.25468           | 1.12012               |             |"
      ]
     },
     "metadata": {},
     "output_type": "display_data"
    },
    {
     "data": {
      "text/html": [
       "<pre>| 1       | 200.012ms    | DIVERGED          | DIVERGED              | 0.00197313  |</pre>"
      ],
      "text/plain": [
       "| 1       | 200.012ms    | DIVERGED          | DIVERGED              | 0.00197313  |"
      ]
     },
     "metadata": {},
     "output_type": "display_data"
    },
    {
     "data": {
      "text/html": [
       "<pre>| RESET   | 219.013ms    | 1.2547            | 1.12013               |             |</pre>"
      ],
      "text/plain": [
       "| RESET   | 219.013ms    | 1.2547            | 1.12013               |             |"
      ]
     },
     "metadata": {},
     "output_type": "display_data"
    },
    {
     "data": {
      "text/html": [
       "<pre>| 1       | 254.015ms    | 1.1838            | 1.08802               | 0.000986565 |</pre>"
      ],
      "text/plain": [
       "| 1       | 254.015ms    | 1.1838            | 1.08802               | 0.000986565 |"
      ]
     },
     "metadata": {},
     "output_type": "display_data"
    },
    {
     "data": {
      "text/html": [
       "<pre>| 2       | 299.017ms    | 1.11168           | 1.05436               | 0.000176124 |</pre>"
      ],
      "text/plain": [
       "| 2       | 299.017ms    | 1.11168           | 1.05436               | 0.000176124 |"
      ]
     },
     "metadata": {},
     "output_type": "display_data"
    },
    {
     "data": {
      "text/html": [
       "<pre>| 3       | 337.019ms    | 1.09921           | 1.04843               |             |</pre>"
      ],
      "text/plain": [
       "| 3       | 337.019ms    | 1.09921           | 1.04843               |             |"
      ]
     },
     "metadata": {},
     "output_type": "display_data"
    },
    {
     "data": {
      "text/html": [
       "<pre>| 4       | 377.022ms    | 1.09227           | 1.04512               | 6.6639e-005 |</pre>"
      ],
      "text/plain": [
       "| 4       | 377.022ms    | 1.09227           | 1.04512               | 6.6639e-005 |"
      ]
     },
     "metadata": {},
     "output_type": "display_data"
    },
    {
     "data": {
      "text/html": [
       "<pre>| 5       | 418.024ms    | 1.0875            | 1.04283               |             |</pre>"
      ],
      "text/plain": [
       "| 5       | 418.024ms    | 1.0875            | 1.04283               |             |"
      ]
     },
     "metadata": {},
     "output_type": "display_data"
    },
    {
     "data": {
      "text/html": [
       "<pre>| 6       | 478.027ms    | 1.08388           | 1.04109               |             |</pre>"
      ],
      "text/plain": [
       "| 6       | 478.027ms    | 1.08388           | 1.04109               |             |"
      ]
     },
     "metadata": {},
     "output_type": "display_data"
    },
    {
     "data": {
      "text/html": [
       "<pre>| 11      | 796.046ms    | 1.0731            | 1.03591               |             |</pre>"
      ],
      "text/plain": [
       "| 11      | 796.046ms    | 1.0731            | 1.03591               |             |"
      ]
     },
     "metadata": {},
     "output_type": "display_data"
    },
    {
     "data": {
      "text/html": [
       "<pre>| 23      | 1.66s        | 1.06168           | 1.03038               |             |</pre>"
      ],
      "text/plain": [
       "| 23      | 1.66s        | 1.06168           | 1.03038               |             |"
      ]
     },
     "metadata": {},
     "output_type": "display_data"
    },
    {
     "data": {
      "text/html": [
       "<pre>| 48      | 3.68s        | 1.0515            | 1.02542               |             |</pre>"
      ],
      "text/plain": [
       "| 48      | 3.68s        | 1.0515            | 1.02542               |             |"
      ]
     },
     "metadata": {},
     "output_type": "display_data"
    },
    {
     "data": {
      "text/html": [
       "<pre>+---------+--------------+-------------------+-----------------------+-------------+</pre>"
      ],
      "text/plain": [
       "+---------+--------------+-------------------+-----------------------+-------------+"
      ]
     },
     "metadata": {},
     "output_type": "display_data"
    },
    {
     "name": "stdout",
     "output_type": "stream",
     "text": [
      "Test RMSE on best model"
     ]
    },
    {
     "data": {
      "text/html": [
       "<pre>Optimization Complete: Maximum number of passes through the data reached.</pre>"
      ],
      "text/plain": [
       "Optimization Complete: Maximum number of passes through the data reached."
      ]
     },
     "metadata": {},
     "output_type": "display_data"
    },
    {
     "data": {
      "text/html": [
       "<pre>Computing final objective value and training RMSE.</pre>"
      ],
      "text/plain": [
       "Computing final objective value and training RMSE."
      ]
     },
     "metadata": {},
     "output_type": "display_data"
    },
    {
     "data": {
      "text/html": [
       "<pre>       Final objective value: 1.05081</pre>"
      ],
      "text/plain": [
       "       Final objective value: 1.05081"
      ]
     },
     "metadata": {},
     "output_type": "display_data"
    },
    {
     "data": {
      "text/html": [
       "<pre>       Final training RMSE: 1.02509</pre>"
      ],
      "text/plain": [
       "       Final training RMSE: 1.02509"
      ]
     },
     "metadata": {},
     "output_type": "display_data"
    },
    {
     "name": "stdout",
     "output_type": "stream",
     "text": [
      " 1.0409264676\n"
     ]
    }
   ],
   "source": [
    "# Now that we know the best parameter, we can use it to evaluate on our TEST set\n",
    "factorization_recommender = gl.recommender.factorization_recommender.create(sf_train,\n",
    "                                                                            target='rating',\n",
    "                                                                            regularization=best_regularization_term)\n",
    "print \"Test RMSE on best model\", factorization_recommender.evaluate_rmse(sf_test, 'rating')['rmse_overall']\n"
   ]
  },
  {
   "cell_type": "markdown",
   "metadata": {},
   "source": [
    "##### Integrating an Item-Item Similarity Recommender #####"
   ]
  },
  {
   "cell_type": "code",
   "execution_count": 20,
   "metadata": {
    "collapsed": false
   },
   "outputs": [
    {
     "data": {
      "text/html": [
       "<pre>Recsys training: model = item_similarity</pre>"
      ],
      "text/plain": [
       "Recsys training: model = item_similarity"
      ]
     },
     "metadata": {},
     "output_type": "display_data"
    },
    {
     "data": {
      "text/html": [
       "<pre>Preparing data set.</pre>"
      ],
      "text/plain": [
       "Preparing data set."
      ]
     },
     "metadata": {},
     "output_type": "display_data"
    },
    {
     "data": {
      "text/html": [
       "<pre>    Data has 46642 observations with 568 users and 1583 items.</pre>"
      ],
      "text/plain": [
       "    Data has 46642 observations with 568 users and 1583 items."
      ]
     },
     "metadata": {},
     "output_type": "display_data"
    },
    {
     "data": {
      "text/html": [
       "<pre>    Data prepared in: 0.102006s</pre>"
      ],
      "text/plain": [
       "    Data prepared in: 0.102006s"
      ]
     },
     "metadata": {},
     "output_type": "display_data"
    },
    {
     "data": {
      "text/html": [
       "<pre>Training model from provided data.</pre>"
      ],
      "text/plain": [
       "Training model from provided data."
      ]
     },
     "metadata": {},
     "output_type": "display_data"
    },
    {
     "data": {
      "text/html": [
       "<pre>Gathering per-item and per-user statistics.</pre>"
      ],
      "text/plain": [
       "Gathering per-item and per-user statistics."
      ]
     },
     "metadata": {},
     "output_type": "display_data"
    },
    {
     "data": {
      "text/html": [
       "<pre>+--------------------------------+------------+</pre>"
      ],
      "text/plain": [
       "+--------------------------------+------------+"
      ]
     },
     "metadata": {},
     "output_type": "display_data"
    },
    {
     "data": {
      "text/html": [
       "<pre>| Elapsed Time (Item Statistics) | % Complete |</pre>"
      ],
      "text/plain": [
       "| Elapsed Time (Item Statistics) | % Complete |"
      ]
     },
     "metadata": {},
     "output_type": "display_data"
    },
    {
     "data": {
      "text/html": [
       "<pre>+--------------------------------+------------+</pre>"
      ],
      "text/plain": [
       "+--------------------------------+------------+"
      ]
     },
     "metadata": {},
     "output_type": "display_data"
    },
    {
     "data": {
      "text/html": [
       "<pre>| 19.001ms                       | 100        |</pre>"
      ],
      "text/plain": [
       "| 19.001ms                       | 100        |"
      ]
     },
     "metadata": {},
     "output_type": "display_data"
    },
    {
     "data": {
      "text/html": [
       "<pre>+--------------------------------+------------+</pre>"
      ],
      "text/plain": [
       "+--------------------------------+------------+"
      ]
     },
     "metadata": {},
     "output_type": "display_data"
    },
    {
     "data": {
      "text/html": [
       "<pre>Setting up lookup tables.</pre>"
      ],
      "text/plain": [
       "Setting up lookup tables."
      ]
     },
     "metadata": {},
     "output_type": "display_data"
    },
    {
     "data": {
      "text/html": [
       "<pre>Processing data in one pass using dense lookup tables.</pre>"
      ],
      "text/plain": [
       "Processing data in one pass using dense lookup tables."
      ]
     },
     "metadata": {},
     "output_type": "display_data"
    },
    {
     "data": {
      "text/html": [
       "<pre>+-------------------------------------+------------------+-----------------+</pre>"
      ],
      "text/plain": [
       "+-------------------------------------+------------------+-----------------+"
      ]
     },
     "metadata": {},
     "output_type": "display_data"
    },
    {
     "data": {
      "text/html": [
       "<pre>| Elapsed Time (Constructing Lookups) | Total % Complete | Items Processed |</pre>"
      ],
      "text/plain": [
       "| Elapsed Time (Constructing Lookups) | Total % Complete | Items Processed |"
      ]
     },
     "metadata": {},
     "output_type": "display_data"
    },
    {
     "data": {
      "text/html": [
       "<pre>+-------------------------------------+------------------+-----------------+</pre>"
      ],
      "text/plain": [
       "+-------------------------------------+------------------+-----------------+"
      ]
     },
     "metadata": {},
     "output_type": "display_data"
    },
    {
     "data": {
      "text/html": [
       "<pre>| 214.012ms                           | 0.25             | 4               |</pre>"
      ],
      "text/plain": [
       "| 214.012ms                           | 0.25             | 4               |"
      ]
     },
     "metadata": {},
     "output_type": "display_data"
    },
    {
     "data": {
      "text/html": [
       "<pre>| 487.028ms                           | 100              | 1583            |</pre>"
      ],
      "text/plain": [
       "| 487.028ms                           | 100              | 1583            |"
      ]
     },
     "metadata": {},
     "output_type": "display_data"
    },
    {
     "data": {
      "text/html": [
       "<pre>+-------------------------------------+------------------+-----------------+</pre>"
      ],
      "text/plain": [
       "+-------------------------------------+------------------+-----------------+"
      ]
     },
     "metadata": {},
     "output_type": "display_data"
    },
    {
     "data": {
      "text/html": [
       "<pre>Finalizing lookup tables.</pre>"
      ],
      "text/plain": [
       "Finalizing lookup tables."
      ]
     },
     "metadata": {},
     "output_type": "display_data"
    },
    {
     "data": {
      "text/html": [
       "<pre>Generating candidate set for working with new users.</pre>"
      ],
      "text/plain": [
       "Generating candidate set for working with new users."
      ]
     },
     "metadata": {},
     "output_type": "display_data"
    },
    {
     "data": {
      "text/html": [
       "<pre>Finished training in 0.946054s</pre>"
      ],
      "text/plain": [
       "Finished training in 0.946054s"
      ]
     },
     "metadata": {},
     "output_type": "display_data"
    },
    {
     "name": "stdout",
     "output_type": "stream",
     "text": [
      "Test RMSE on model 3.67383571044\n"
     ]
    }
   ],
   "source": [
    "# graphlab's Item-Item Similarity Recommender\n",
    "item_similarity_recommender = gl.recommender.item_similarity_recommender.create(sf_train, target='rating')\n",
    "test_rmse = item_similarity_recommender.evaluate_rmse(sf_test, 'rating')['rmse_overall']\n",
    "print \"Test RMSE on model\", test_rmse"
   ]
  },
  {
   "cell_type": "markdown",
   "metadata": {},
   "source": [
    "#### Getting Top k Recommendations ###############"
   ]
  },
  {
   "cell_type": "code",
   "execution_count": 21,
   "metadata": {
    "collapsed": false
   },
   "outputs": [
    {
     "name": "stdout",
     "output_type": "stream",
     "text": [
      "+---------+---------+---------------+------+\n",
      "| user_id | item_id |     score     | rank |\n",
      "+---------+---------+---------------+------+\n",
      "|   244   |    50   | 4.04519540698 |  1   |\n",
      "|   244   |   174   | 3.96801305444 |  2   |\n",
      "|   244   |   127   | 3.96160466106 |  3   |\n",
      "|   244   |    98   | 3.95758024485 |  4   |\n",
      "|   244   |    64   | 3.93204925091 |  5   |\n",
      "|   298   |    50   | 4.14142725126 |  1   |\n",
      "|   298   |   174   | 4.06424489872 |  2   |\n",
      "|   298   |    64   | 4.02828109519 |  3   |\n",
      "|   298   |   172   |  4.0024915661 |  4   |\n",
      "|   298   |   100   | 3.99847102419 |  5   |\n",
      "+---------+---------+---------------+------+\n",
      "[2840 rows x 4 columns]\n",
      "Note: Only the head of the SFrame is printed.\n",
      "You can use print_rows(num_rows=m, num_columns=n) to print more rows and columns.\n"
     ]
    }
   ],
   "source": [
    "# calculate the top k recommendations for each user\n",
    "k=5\n",
    "popularity_top_k = popularity_recommender.recommend(k=k)\n",
    "factorization_top_k = factorization_recommender.recommend(k=k)\n",
    "item_similarity_top_k = item_similarity_recommender.recommend(k=k)\n",
    "print factorization_top_k"
   ]
  },
  {
   "cell_type": "markdown",
   "metadata": {},
   "source": [
    "###### Evaluation: Confusion Matrix, Precision and Recall ######"
   ]
  },
  {
   "cell_type": "code",
   "execution_count": 22,
   "metadata": {
    "collapsed": false
   },
   "outputs": [
    {
     "name": "stdout",
     "output_type": "stream",
     "text": [
      "PROGRESS: Evaluate model popularity_recommender\n",
      "\n",
      "Precision and recall summary statistics by cutoff\n",
      "+--------+-------------------+-------------------+\n",
      "| cutoff |   mean_precision  |    mean_recall    |\n",
      "+--------+-------------------+-------------------+\n",
      "|   1    |  0.00176056338028 | 2.70855904659e-05 |\n",
      "|   2    |  0.00176056338028 | 5.64283134706e-05 |\n",
      "|   3    |  0.00117370892019 | 5.64283134706e-05 |\n",
      "|   4    | 0.000880281690141 | 5.64283134706e-05 |\n",
      "|   5    |  0.00105633802817 | 8.27053788479e-05 |\n",
      "|   6    |  0.00146713615023 | 0.000105335623216 |\n",
      "|   7    |  0.00176056338028 | 0.000140993292173 |\n",
      "|   8    |  0.00242077464789 | 0.000292208163967 |\n",
      "|   9    |  0.00254303599374 | 0.000331067842109 |\n",
      "|   10   |  0.00228873239437 | 0.000331067842109 |\n",
      "+--------+-------------------+-------------------+\n",
      "[10 rows x 3 columns]\n",
      "\n",
      "PROGRESS: Evaluate model factorization_recommender\n",
      "\n",
      "Precision and recall summary statistics by cutoff\n",
      "+--------+----------------+------------------+\n",
      "| cutoff | mean_precision |   mean_recall    |\n",
      "+--------+----------------+------------------+\n",
      "|   1    | 0.389084507042 | 0.00953802116831 |\n",
      "|   2    | 0.332746478873 | 0.0163987608953  |\n",
      "|   3    | 0.31103286385  | 0.0231319091141  |\n",
      "|   4    | 0.294454225352 | 0.0284854224638  |\n",
      "|   5    | 0.28485915493  | 0.0340872533111  |\n",
      "|   6    | 0.274941314554 | 0.0392296690922  |\n",
      "|   7    | 0.26861167002  | 0.0450589613686  |\n",
      "|   8    | 0.261443661972 | 0.0503051620061  |\n",
      "|   9    | 0.257824726135 | 0.0549784247177  |\n",
      "|   10   | 0.251408450704 | 0.0593969042602  |\n",
      "+--------+----------------+------------------+\n",
      "[10 rows x 3 columns]\n",
      "\n",
      "PROGRESS: Evaluate model item_similarity_recommender\n",
      "\n",
      "Precision and recall summary statistics by cutoff\n",
      "+--------+----------------+-----------------+\n",
      "| cutoff | mean_precision |   mean_recall   |\n",
      "+--------+----------------+-----------------+\n",
      "|   1    | 0.403169014085 | 0.0114976412883 |\n",
      "|   2    | 0.382922535211 |  0.021193822829 |\n",
      "|   3    | 0.365023474178 | 0.0305670481699 |\n",
      "|   4    | 0.365316901408 | 0.0403081124716 |\n",
      "|   5    | 0.355633802817 | 0.0476966719001 |\n",
      "|   6    | 0.352992957746 | 0.0568946541199 |\n",
      "|   7    | 0.344818913481 | 0.0639496902052 |\n",
      "|   8    | 0.343309859155 | 0.0724456490365 |\n",
      "|   9    | 0.338223787167 | 0.0802116116953 |\n",
      "|   10   | 0.334330985915 | 0.0878283353812 |\n",
      "+--------+----------------+-----------------+\n",
      "[10 rows x 3 columns]\n",
      "\n"
     ]
    }
   ],
   "source": [
    "# calculate the precision/recall matrices between the three different models\n",
    "models = [popularity_recommender, factorization_recommender, item_similarity_recommender]\n",
    "model_names = ['popularity_recommender', 'factorization_recommender', 'item_similarity_recommender']\n",
    "precision_recall = gl.recommender.util.compare_models(sf_test,\n",
    "                                                      models,\n",
    "                                                      metric='precision_recall',\n",
    "                                                      model_names=model_names)"
   ]
  }
 ],
 "metadata": {
  "kernelspec": {
   "display_name": "Python 2",
   "language": "python",
   "name": "python2"
  },
  "language_info": {
   "codemirror_mode": {
    "name": "ipython",
    "version": 2
   },
   "file_extension": ".py",
   "mimetype": "text/x-python",
   "name": "python",
   "nbconvert_exporter": "python",
   "pygments_lexer": "ipython2",
   "version": "2.7.11"
  }
 },
 "nbformat": 4,
 "nbformat_minor": 0
}
